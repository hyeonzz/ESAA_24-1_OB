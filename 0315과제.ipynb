{
  "nbformat": 4,
  "nbformat_minor": 0,
  "metadata": {
    "colab": {
      "provenance": [],
      "authorship_tag": "ABX9TyP8woq0NvK2WDUrvhg15kKd",
      "include_colab_link": true
    },
    "kernelspec": {
      "name": "python3",
      "display_name": "Python 3"
    },
    "language_info": {
      "name": "python"
    }
  },
  "cells": [
    {
      "cell_type": "markdown",
      "metadata": {
        "id": "view-in-github",
        "colab_type": "text"
      },
      "source": [
        "<a href=\"https://colab.research.google.com/github/hyeonzz/ESAA_24-1_OB/blob/writing/0315%EA%B3%BC%EC%A0%9C.ipynb\" target=\"_parent\"><img src=\"https://colab.research.google.com/assets/colab-badge.svg\" alt=\"Open In Colab\"/></a>"
      ]
    },
    {
      "cell_type": "markdown",
      "source": [
        "**0315과제: 캐글 필사-Stacked Regressions : Top 4% on LeaderBoard**    \n",
        "https://www.kaggle.com/code/serigne/stacked-regressions-top-4-on-leaderboard/notebook"
      ],
      "metadata": {
        "id": "DrT_ut3EIzEq"
      }
    },
    {
      "cell_type": "markdown",
      "source": [
        "The features engeneering\n",
        "- **Inputing missing values** by proceeding sequentially through the data\n",
        "- **Transforming** some numerical variables that seem really categorical\n",
        "- **Label Encoding** some categorical variabels that may contain infromation in their ordering set\n",
        "- **Box Cox Transformation** of skewed features (instead of log-transformation): slightly better result both on leaderboard and cross-validation.\n",
        "- **Gettimg dummy variables for categorical features."
      ],
      "metadata": {
        "id": "qaVzG56IKDbh"
      }
    },
    {
      "cell_type": "code",
      "source": [
        "from google.colab import drive\n",
        "drive.mount('/content/drive')"
      ],
      "metadata": {
        "colab": {
          "base_uri": "https://localhost:8080/"
        },
        "id": "H3gcfobwL4hk",
        "outputId": "15b61954-f597-43ec-de20-7e7d98a08660"
      },
      "execution_count": 1,
      "outputs": [
        {
          "output_type": "stream",
          "name": "stdout",
          "text": [
            "Mounted at /content/drive\n"
          ]
        }
      ]
    },
    {
      "cell_type": "code",
      "source": [
        "import numpy as np\n",
        "import pandas as pd\n",
        "%matplotlib inline\n",
        "import matplotlib.pyplot as plt\n",
        "import seaborn as sns\n",
        "color = sns.color_palette()\n",
        "sns.set_style('darkgrid')\n",
        "import warnings\n",
        "def ignore_warn(*args, **kwargs):\n",
        "  pass\n",
        "warnings.warn = ignore_warn  #ignore annoying warning (from sklearn and seaborn)\n",
        "\n",
        "from scipy import stats\n",
        "from scipy.stats import norm, skew\n",
        "\n",
        "pd.set_option('display.float_format', lambda x: '{:.3f}'.format(x)) #Limiting floats output to 3 decimal points\n",
        "\n",
        "#from subprocess import check_output\n",
        "#print(check_output([\"ls\", \"../input\"]).decode(\"utf8\")) #check the files available in the directory"
      ],
      "metadata": {
        "id": "B7mehbC7Krzv"
      },
      "execution_count": 2,
      "outputs": []
    },
    {
      "cell_type": "code",
      "source": [
        "# Now let's import and put the train and test datasets in pandas dataframe\n",
        "\n",
        "train = pd.read_csv(\"/content/drive/MyDrive/ESAA_OB/DATA/SR_train.csv\")\n",
        "test = pd.read_csv(\"/content/drive/MyDrive/ESAA_OB/DATA/SR_test.csv\")"
      ],
      "metadata": {
        "id": "B4_F6vowKrwd"
      },
      "execution_count": 3,
      "outputs": []
    },
    {
      "cell_type": "code",
      "execution_count": 4,
      "metadata": {
        "colab": {
          "base_uri": "https://localhost:8080/",
          "height": 255
        },
        "id": "naoRG0SGIhq-",
        "outputId": "6effabcb-2038-4371-a83c-b916f31b5db1"
      },
      "outputs": [
        {
          "output_type": "execute_result",
          "data": {
            "text/plain": [
              "   Id  MSSubClass MSZoning  LotFrontage  LotArea Street Alley LotShape  \\\n",
              "0   1          60       RL       65.000     8450   Pave   NaN      Reg   \n",
              "1   2          20       RL       80.000     9600   Pave   NaN      Reg   \n",
              "2   3          60       RL       68.000    11250   Pave   NaN      IR1   \n",
              "3   4          70       RL       60.000     9550   Pave   NaN      IR1   \n",
              "4   5          60       RL       84.000    14260   Pave   NaN      IR1   \n",
              "\n",
              "  LandContour Utilities  ... PoolArea PoolQC Fence MiscFeature MiscVal MoSold  \\\n",
              "0         Lvl    AllPub  ...        0    NaN   NaN         NaN       0      2   \n",
              "1         Lvl    AllPub  ...        0    NaN   NaN         NaN       0      5   \n",
              "2         Lvl    AllPub  ...        0    NaN   NaN         NaN       0      9   \n",
              "3         Lvl    AllPub  ...        0    NaN   NaN         NaN       0      2   \n",
              "4         Lvl    AllPub  ...        0    NaN   NaN         NaN       0     12   \n",
              "\n",
              "  YrSold  SaleType  SaleCondition  SalePrice  \n",
              "0   2008        WD         Normal     208500  \n",
              "1   2007        WD         Normal     181500  \n",
              "2   2008        WD         Normal     223500  \n",
              "3   2006        WD        Abnorml     140000  \n",
              "4   2008        WD         Normal     250000  \n",
              "\n",
              "[5 rows x 81 columns]"
            ],
            "text/html": [
              "\n",
              "  <div id=\"df-a111ff3d-39c9-44d1-a6aa-c0496f0271bc\" class=\"colab-df-container\">\n",
              "    <div>\n",
              "<style scoped>\n",
              "    .dataframe tbody tr th:only-of-type {\n",
              "        vertical-align: middle;\n",
              "    }\n",
              "\n",
              "    .dataframe tbody tr th {\n",
              "        vertical-align: top;\n",
              "    }\n",
              "\n",
              "    .dataframe thead th {\n",
              "        text-align: right;\n",
              "    }\n",
              "</style>\n",
              "<table border=\"1\" class=\"dataframe\">\n",
              "  <thead>\n",
              "    <tr style=\"text-align: right;\">\n",
              "      <th></th>\n",
              "      <th>Id</th>\n",
              "      <th>MSSubClass</th>\n",
              "      <th>MSZoning</th>\n",
              "      <th>LotFrontage</th>\n",
              "      <th>LotArea</th>\n",
              "      <th>Street</th>\n",
              "      <th>Alley</th>\n",
              "      <th>LotShape</th>\n",
              "      <th>LandContour</th>\n",
              "      <th>Utilities</th>\n",
              "      <th>...</th>\n",
              "      <th>PoolArea</th>\n",
              "      <th>PoolQC</th>\n",
              "      <th>Fence</th>\n",
              "      <th>MiscFeature</th>\n",
              "      <th>MiscVal</th>\n",
              "      <th>MoSold</th>\n",
              "      <th>YrSold</th>\n",
              "      <th>SaleType</th>\n",
              "      <th>SaleCondition</th>\n",
              "      <th>SalePrice</th>\n",
              "    </tr>\n",
              "  </thead>\n",
              "  <tbody>\n",
              "    <tr>\n",
              "      <th>0</th>\n",
              "      <td>1</td>\n",
              "      <td>60</td>\n",
              "      <td>RL</td>\n",
              "      <td>65.000</td>\n",
              "      <td>8450</td>\n",
              "      <td>Pave</td>\n",
              "      <td>NaN</td>\n",
              "      <td>Reg</td>\n",
              "      <td>Lvl</td>\n",
              "      <td>AllPub</td>\n",
              "      <td>...</td>\n",
              "      <td>0</td>\n",
              "      <td>NaN</td>\n",
              "      <td>NaN</td>\n",
              "      <td>NaN</td>\n",
              "      <td>0</td>\n",
              "      <td>2</td>\n",
              "      <td>2008</td>\n",
              "      <td>WD</td>\n",
              "      <td>Normal</td>\n",
              "      <td>208500</td>\n",
              "    </tr>\n",
              "    <tr>\n",
              "      <th>1</th>\n",
              "      <td>2</td>\n",
              "      <td>20</td>\n",
              "      <td>RL</td>\n",
              "      <td>80.000</td>\n",
              "      <td>9600</td>\n",
              "      <td>Pave</td>\n",
              "      <td>NaN</td>\n",
              "      <td>Reg</td>\n",
              "      <td>Lvl</td>\n",
              "      <td>AllPub</td>\n",
              "      <td>...</td>\n",
              "      <td>0</td>\n",
              "      <td>NaN</td>\n",
              "      <td>NaN</td>\n",
              "      <td>NaN</td>\n",
              "      <td>0</td>\n",
              "      <td>5</td>\n",
              "      <td>2007</td>\n",
              "      <td>WD</td>\n",
              "      <td>Normal</td>\n",
              "      <td>181500</td>\n",
              "    </tr>\n",
              "    <tr>\n",
              "      <th>2</th>\n",
              "      <td>3</td>\n",
              "      <td>60</td>\n",
              "      <td>RL</td>\n",
              "      <td>68.000</td>\n",
              "      <td>11250</td>\n",
              "      <td>Pave</td>\n",
              "      <td>NaN</td>\n",
              "      <td>IR1</td>\n",
              "      <td>Lvl</td>\n",
              "      <td>AllPub</td>\n",
              "      <td>...</td>\n",
              "      <td>0</td>\n",
              "      <td>NaN</td>\n",
              "      <td>NaN</td>\n",
              "      <td>NaN</td>\n",
              "      <td>0</td>\n",
              "      <td>9</td>\n",
              "      <td>2008</td>\n",
              "      <td>WD</td>\n",
              "      <td>Normal</td>\n",
              "      <td>223500</td>\n",
              "    </tr>\n",
              "    <tr>\n",
              "      <th>3</th>\n",
              "      <td>4</td>\n",
              "      <td>70</td>\n",
              "      <td>RL</td>\n",
              "      <td>60.000</td>\n",
              "      <td>9550</td>\n",
              "      <td>Pave</td>\n",
              "      <td>NaN</td>\n",
              "      <td>IR1</td>\n",
              "      <td>Lvl</td>\n",
              "      <td>AllPub</td>\n",
              "      <td>...</td>\n",
              "      <td>0</td>\n",
              "      <td>NaN</td>\n",
              "      <td>NaN</td>\n",
              "      <td>NaN</td>\n",
              "      <td>0</td>\n",
              "      <td>2</td>\n",
              "      <td>2006</td>\n",
              "      <td>WD</td>\n",
              "      <td>Abnorml</td>\n",
              "      <td>140000</td>\n",
              "    </tr>\n",
              "    <tr>\n",
              "      <th>4</th>\n",
              "      <td>5</td>\n",
              "      <td>60</td>\n",
              "      <td>RL</td>\n",
              "      <td>84.000</td>\n",
              "      <td>14260</td>\n",
              "      <td>Pave</td>\n",
              "      <td>NaN</td>\n",
              "      <td>IR1</td>\n",
              "      <td>Lvl</td>\n",
              "      <td>AllPub</td>\n",
              "      <td>...</td>\n",
              "      <td>0</td>\n",
              "      <td>NaN</td>\n",
              "      <td>NaN</td>\n",
              "      <td>NaN</td>\n",
              "      <td>0</td>\n",
              "      <td>12</td>\n",
              "      <td>2008</td>\n",
              "      <td>WD</td>\n",
              "      <td>Normal</td>\n",
              "      <td>250000</td>\n",
              "    </tr>\n",
              "  </tbody>\n",
              "</table>\n",
              "<p>5 rows × 81 columns</p>\n",
              "</div>\n",
              "    <div class=\"colab-df-buttons\">\n",
              "\n",
              "  <div class=\"colab-df-container\">\n",
              "    <button class=\"colab-df-convert\" onclick=\"convertToInteractive('df-a111ff3d-39c9-44d1-a6aa-c0496f0271bc')\"\n",
              "            title=\"Convert this dataframe to an interactive table.\"\n",
              "            style=\"display:none;\">\n",
              "\n",
              "  <svg xmlns=\"http://www.w3.org/2000/svg\" height=\"24px\" viewBox=\"0 -960 960 960\">\n",
              "    <path d=\"M120-120v-720h720v720H120Zm60-500h600v-160H180v160Zm220 220h160v-160H400v160Zm0 220h160v-160H400v160ZM180-400h160v-160H180v160Zm440 0h160v-160H620v160ZM180-180h160v-160H180v160Zm440 0h160v-160H620v160Z\"/>\n",
              "  </svg>\n",
              "    </button>\n",
              "\n",
              "  <style>\n",
              "    .colab-df-container {\n",
              "      display:flex;\n",
              "      gap: 12px;\n",
              "    }\n",
              "\n",
              "    .colab-df-convert {\n",
              "      background-color: #E8F0FE;\n",
              "      border: none;\n",
              "      border-radius: 50%;\n",
              "      cursor: pointer;\n",
              "      display: none;\n",
              "      fill: #1967D2;\n",
              "      height: 32px;\n",
              "      padding: 0 0 0 0;\n",
              "      width: 32px;\n",
              "    }\n",
              "\n",
              "    .colab-df-convert:hover {\n",
              "      background-color: #E2EBFA;\n",
              "      box-shadow: 0px 1px 2px rgba(60, 64, 67, 0.3), 0px 1px 3px 1px rgba(60, 64, 67, 0.15);\n",
              "      fill: #174EA6;\n",
              "    }\n",
              "\n",
              "    .colab-df-buttons div {\n",
              "      margin-bottom: 4px;\n",
              "    }\n",
              "\n",
              "    [theme=dark] .colab-df-convert {\n",
              "      background-color: #3B4455;\n",
              "      fill: #D2E3FC;\n",
              "    }\n",
              "\n",
              "    [theme=dark] .colab-df-convert:hover {\n",
              "      background-color: #434B5C;\n",
              "      box-shadow: 0px 1px 3px 1px rgba(0, 0, 0, 0.15);\n",
              "      filter: drop-shadow(0px 1px 2px rgba(0, 0, 0, 0.3));\n",
              "      fill: #FFFFFF;\n",
              "    }\n",
              "  </style>\n",
              "\n",
              "    <script>\n",
              "      const buttonEl =\n",
              "        document.querySelector('#df-a111ff3d-39c9-44d1-a6aa-c0496f0271bc button.colab-df-convert');\n",
              "      buttonEl.style.display =\n",
              "        google.colab.kernel.accessAllowed ? 'block' : 'none';\n",
              "\n",
              "      async function convertToInteractive(key) {\n",
              "        const element = document.querySelector('#df-a111ff3d-39c9-44d1-a6aa-c0496f0271bc');\n",
              "        const dataTable =\n",
              "          await google.colab.kernel.invokeFunction('convertToInteractive',\n",
              "                                                    [key], {});\n",
              "        if (!dataTable) return;\n",
              "\n",
              "        const docLinkHtml = 'Like what you see? Visit the ' +\n",
              "          '<a target=\"_blank\" href=https://colab.research.google.com/notebooks/data_table.ipynb>data table notebook</a>'\n",
              "          + ' to learn more about interactive tables.';\n",
              "        element.innerHTML = '';\n",
              "        dataTable['output_type'] = 'display_data';\n",
              "        await google.colab.output.renderOutput(dataTable, element);\n",
              "        const docLink = document.createElement('div');\n",
              "        docLink.innerHTML = docLinkHtml;\n",
              "        element.appendChild(docLink);\n",
              "      }\n",
              "    </script>\n",
              "  </div>\n",
              "\n",
              "\n",
              "<div id=\"df-76392170-e01a-4736-bc68-620abef2cea6\">\n",
              "  <button class=\"colab-df-quickchart\" onclick=\"quickchart('df-76392170-e01a-4736-bc68-620abef2cea6')\"\n",
              "            title=\"Suggest charts\"\n",
              "            style=\"display:none;\">\n",
              "\n",
              "<svg xmlns=\"http://www.w3.org/2000/svg\" height=\"24px\"viewBox=\"0 0 24 24\"\n",
              "     width=\"24px\">\n",
              "    <g>\n",
              "        <path d=\"M19 3H5c-1.1 0-2 .9-2 2v14c0 1.1.9 2 2 2h14c1.1 0 2-.9 2-2V5c0-1.1-.9-2-2-2zM9 17H7v-7h2v7zm4 0h-2V7h2v10zm4 0h-2v-4h2v4z\"/>\n",
              "    </g>\n",
              "</svg>\n",
              "  </button>\n",
              "\n",
              "<style>\n",
              "  .colab-df-quickchart {\n",
              "      --bg-color: #E8F0FE;\n",
              "      --fill-color: #1967D2;\n",
              "      --hover-bg-color: #E2EBFA;\n",
              "      --hover-fill-color: #174EA6;\n",
              "      --disabled-fill-color: #AAA;\n",
              "      --disabled-bg-color: #DDD;\n",
              "  }\n",
              "\n",
              "  [theme=dark] .colab-df-quickchart {\n",
              "      --bg-color: #3B4455;\n",
              "      --fill-color: #D2E3FC;\n",
              "      --hover-bg-color: #434B5C;\n",
              "      --hover-fill-color: #FFFFFF;\n",
              "      --disabled-bg-color: #3B4455;\n",
              "      --disabled-fill-color: #666;\n",
              "  }\n",
              "\n",
              "  .colab-df-quickchart {\n",
              "    background-color: var(--bg-color);\n",
              "    border: none;\n",
              "    border-radius: 50%;\n",
              "    cursor: pointer;\n",
              "    display: none;\n",
              "    fill: var(--fill-color);\n",
              "    height: 32px;\n",
              "    padding: 0;\n",
              "    width: 32px;\n",
              "  }\n",
              "\n",
              "  .colab-df-quickchart:hover {\n",
              "    background-color: var(--hover-bg-color);\n",
              "    box-shadow: 0 1px 2px rgba(60, 64, 67, 0.3), 0 1px 3px 1px rgba(60, 64, 67, 0.15);\n",
              "    fill: var(--button-hover-fill-color);\n",
              "  }\n",
              "\n",
              "  .colab-df-quickchart-complete:disabled,\n",
              "  .colab-df-quickchart-complete:disabled:hover {\n",
              "    background-color: var(--disabled-bg-color);\n",
              "    fill: var(--disabled-fill-color);\n",
              "    box-shadow: none;\n",
              "  }\n",
              "\n",
              "  .colab-df-spinner {\n",
              "    border: 2px solid var(--fill-color);\n",
              "    border-color: transparent;\n",
              "    border-bottom-color: var(--fill-color);\n",
              "    animation:\n",
              "      spin 1s steps(1) infinite;\n",
              "  }\n",
              "\n",
              "  @keyframes spin {\n",
              "    0% {\n",
              "      border-color: transparent;\n",
              "      border-bottom-color: var(--fill-color);\n",
              "      border-left-color: var(--fill-color);\n",
              "    }\n",
              "    20% {\n",
              "      border-color: transparent;\n",
              "      border-left-color: var(--fill-color);\n",
              "      border-top-color: var(--fill-color);\n",
              "    }\n",
              "    30% {\n",
              "      border-color: transparent;\n",
              "      border-left-color: var(--fill-color);\n",
              "      border-top-color: var(--fill-color);\n",
              "      border-right-color: var(--fill-color);\n",
              "    }\n",
              "    40% {\n",
              "      border-color: transparent;\n",
              "      border-right-color: var(--fill-color);\n",
              "      border-top-color: var(--fill-color);\n",
              "    }\n",
              "    60% {\n",
              "      border-color: transparent;\n",
              "      border-right-color: var(--fill-color);\n",
              "    }\n",
              "    80% {\n",
              "      border-color: transparent;\n",
              "      border-right-color: var(--fill-color);\n",
              "      border-bottom-color: var(--fill-color);\n",
              "    }\n",
              "    90% {\n",
              "      border-color: transparent;\n",
              "      border-bottom-color: var(--fill-color);\n",
              "    }\n",
              "  }\n",
              "</style>\n",
              "\n",
              "  <script>\n",
              "    async function quickchart(key) {\n",
              "      const quickchartButtonEl =\n",
              "        document.querySelector('#' + key + ' button');\n",
              "      quickchartButtonEl.disabled = true;  // To prevent multiple clicks.\n",
              "      quickchartButtonEl.classList.add('colab-df-spinner');\n",
              "      try {\n",
              "        const charts = await google.colab.kernel.invokeFunction(\n",
              "            'suggestCharts', [key], {});\n",
              "      } catch (error) {\n",
              "        console.error('Error during call to suggestCharts:', error);\n",
              "      }\n",
              "      quickchartButtonEl.classList.remove('colab-df-spinner');\n",
              "      quickchartButtonEl.classList.add('colab-df-quickchart-complete');\n",
              "    }\n",
              "    (() => {\n",
              "      let quickchartButtonEl =\n",
              "        document.querySelector('#df-76392170-e01a-4736-bc68-620abef2cea6 button');\n",
              "      quickchartButtonEl.style.display =\n",
              "        google.colab.kernel.accessAllowed ? 'block' : 'none';\n",
              "    })();\n",
              "  </script>\n",
              "</div>\n",
              "\n",
              "    </div>\n",
              "  </div>\n"
            ],
            "application/vnd.google.colaboratory.intrinsic+json": {
              "type": "dataframe",
              "variable_name": "train"
            }
          },
          "metadata": {},
          "execution_count": 4
        }
      ],
      "source": [
        "# display the first five rows of the train dataset.\n",
        "train.head(5)"
      ]
    },
    {
      "cell_type": "code",
      "source": [
        "# display the first five rows of the test dataset.\n",
        "test.head(5)"
      ],
      "metadata": {
        "colab": {
          "base_uri": "https://localhost:8080/",
          "height": 255
        },
        "id": "-AYhVsJYNfL_",
        "outputId": "717128e4-f77d-4830-8ded-7091069f8788"
      },
      "execution_count": 5,
      "outputs": [
        {
          "output_type": "execute_result",
          "data": {
            "text/plain": [
              "     Id  MSSubClass MSZoning  LotFrontage  LotArea Street Alley LotShape  \\\n",
              "0  1461          20       RH       80.000    11622   Pave   NaN      Reg   \n",
              "1  1462          20       RL       81.000    14267   Pave   NaN      IR1   \n",
              "2  1463          60       RL       74.000    13830   Pave   NaN      IR1   \n",
              "3  1464          60       RL       78.000     9978   Pave   NaN      IR1   \n",
              "4  1465         120       RL       43.000     5005   Pave   NaN      IR1   \n",
              "\n",
              "  LandContour Utilities  ... ScreenPorch PoolArea PoolQC  Fence MiscFeature  \\\n",
              "0         Lvl    AllPub  ...         120        0    NaN  MnPrv         NaN   \n",
              "1         Lvl    AllPub  ...           0        0    NaN    NaN        Gar2   \n",
              "2         Lvl    AllPub  ...           0        0    NaN  MnPrv         NaN   \n",
              "3         Lvl    AllPub  ...           0        0    NaN    NaN         NaN   \n",
              "4         HLS    AllPub  ...         144        0    NaN    NaN         NaN   \n",
              "\n",
              "  MiscVal MoSold  YrSold  SaleType  SaleCondition  \n",
              "0       0      6    2010        WD         Normal  \n",
              "1   12500      6    2010        WD         Normal  \n",
              "2       0      3    2010        WD         Normal  \n",
              "3       0      6    2010        WD         Normal  \n",
              "4       0      1    2010        WD         Normal  \n",
              "\n",
              "[5 rows x 80 columns]"
            ],
            "text/html": [
              "\n",
              "  <div id=\"df-3e10cdc6-373a-4b94-bbcc-205dae425db7\" class=\"colab-df-container\">\n",
              "    <div>\n",
              "<style scoped>\n",
              "    .dataframe tbody tr th:only-of-type {\n",
              "        vertical-align: middle;\n",
              "    }\n",
              "\n",
              "    .dataframe tbody tr th {\n",
              "        vertical-align: top;\n",
              "    }\n",
              "\n",
              "    .dataframe thead th {\n",
              "        text-align: right;\n",
              "    }\n",
              "</style>\n",
              "<table border=\"1\" class=\"dataframe\">\n",
              "  <thead>\n",
              "    <tr style=\"text-align: right;\">\n",
              "      <th></th>\n",
              "      <th>Id</th>\n",
              "      <th>MSSubClass</th>\n",
              "      <th>MSZoning</th>\n",
              "      <th>LotFrontage</th>\n",
              "      <th>LotArea</th>\n",
              "      <th>Street</th>\n",
              "      <th>Alley</th>\n",
              "      <th>LotShape</th>\n",
              "      <th>LandContour</th>\n",
              "      <th>Utilities</th>\n",
              "      <th>...</th>\n",
              "      <th>ScreenPorch</th>\n",
              "      <th>PoolArea</th>\n",
              "      <th>PoolQC</th>\n",
              "      <th>Fence</th>\n",
              "      <th>MiscFeature</th>\n",
              "      <th>MiscVal</th>\n",
              "      <th>MoSold</th>\n",
              "      <th>YrSold</th>\n",
              "      <th>SaleType</th>\n",
              "      <th>SaleCondition</th>\n",
              "    </tr>\n",
              "  </thead>\n",
              "  <tbody>\n",
              "    <tr>\n",
              "      <th>0</th>\n",
              "      <td>1461</td>\n",
              "      <td>20</td>\n",
              "      <td>RH</td>\n",
              "      <td>80.000</td>\n",
              "      <td>11622</td>\n",
              "      <td>Pave</td>\n",
              "      <td>NaN</td>\n",
              "      <td>Reg</td>\n",
              "      <td>Lvl</td>\n",
              "      <td>AllPub</td>\n",
              "      <td>...</td>\n",
              "      <td>120</td>\n",
              "      <td>0</td>\n",
              "      <td>NaN</td>\n",
              "      <td>MnPrv</td>\n",
              "      <td>NaN</td>\n",
              "      <td>0</td>\n",
              "      <td>6</td>\n",
              "      <td>2010</td>\n",
              "      <td>WD</td>\n",
              "      <td>Normal</td>\n",
              "    </tr>\n",
              "    <tr>\n",
              "      <th>1</th>\n",
              "      <td>1462</td>\n",
              "      <td>20</td>\n",
              "      <td>RL</td>\n",
              "      <td>81.000</td>\n",
              "      <td>14267</td>\n",
              "      <td>Pave</td>\n",
              "      <td>NaN</td>\n",
              "      <td>IR1</td>\n",
              "      <td>Lvl</td>\n",
              "      <td>AllPub</td>\n",
              "      <td>...</td>\n",
              "      <td>0</td>\n",
              "      <td>0</td>\n",
              "      <td>NaN</td>\n",
              "      <td>NaN</td>\n",
              "      <td>Gar2</td>\n",
              "      <td>12500</td>\n",
              "      <td>6</td>\n",
              "      <td>2010</td>\n",
              "      <td>WD</td>\n",
              "      <td>Normal</td>\n",
              "    </tr>\n",
              "    <tr>\n",
              "      <th>2</th>\n",
              "      <td>1463</td>\n",
              "      <td>60</td>\n",
              "      <td>RL</td>\n",
              "      <td>74.000</td>\n",
              "      <td>13830</td>\n",
              "      <td>Pave</td>\n",
              "      <td>NaN</td>\n",
              "      <td>IR1</td>\n",
              "      <td>Lvl</td>\n",
              "      <td>AllPub</td>\n",
              "      <td>...</td>\n",
              "      <td>0</td>\n",
              "      <td>0</td>\n",
              "      <td>NaN</td>\n",
              "      <td>MnPrv</td>\n",
              "      <td>NaN</td>\n",
              "      <td>0</td>\n",
              "      <td>3</td>\n",
              "      <td>2010</td>\n",
              "      <td>WD</td>\n",
              "      <td>Normal</td>\n",
              "    </tr>\n",
              "    <tr>\n",
              "      <th>3</th>\n",
              "      <td>1464</td>\n",
              "      <td>60</td>\n",
              "      <td>RL</td>\n",
              "      <td>78.000</td>\n",
              "      <td>9978</td>\n",
              "      <td>Pave</td>\n",
              "      <td>NaN</td>\n",
              "      <td>IR1</td>\n",
              "      <td>Lvl</td>\n",
              "      <td>AllPub</td>\n",
              "      <td>...</td>\n",
              "      <td>0</td>\n",
              "      <td>0</td>\n",
              "      <td>NaN</td>\n",
              "      <td>NaN</td>\n",
              "      <td>NaN</td>\n",
              "      <td>0</td>\n",
              "      <td>6</td>\n",
              "      <td>2010</td>\n",
              "      <td>WD</td>\n",
              "      <td>Normal</td>\n",
              "    </tr>\n",
              "    <tr>\n",
              "      <th>4</th>\n",
              "      <td>1465</td>\n",
              "      <td>120</td>\n",
              "      <td>RL</td>\n",
              "      <td>43.000</td>\n",
              "      <td>5005</td>\n",
              "      <td>Pave</td>\n",
              "      <td>NaN</td>\n",
              "      <td>IR1</td>\n",
              "      <td>HLS</td>\n",
              "      <td>AllPub</td>\n",
              "      <td>...</td>\n",
              "      <td>144</td>\n",
              "      <td>0</td>\n",
              "      <td>NaN</td>\n",
              "      <td>NaN</td>\n",
              "      <td>NaN</td>\n",
              "      <td>0</td>\n",
              "      <td>1</td>\n",
              "      <td>2010</td>\n",
              "      <td>WD</td>\n",
              "      <td>Normal</td>\n",
              "    </tr>\n",
              "  </tbody>\n",
              "</table>\n",
              "<p>5 rows × 80 columns</p>\n",
              "</div>\n",
              "    <div class=\"colab-df-buttons\">\n",
              "\n",
              "  <div class=\"colab-df-container\">\n",
              "    <button class=\"colab-df-convert\" onclick=\"convertToInteractive('df-3e10cdc6-373a-4b94-bbcc-205dae425db7')\"\n",
              "            title=\"Convert this dataframe to an interactive table.\"\n",
              "            style=\"display:none;\">\n",
              "\n",
              "  <svg xmlns=\"http://www.w3.org/2000/svg\" height=\"24px\" viewBox=\"0 -960 960 960\">\n",
              "    <path d=\"M120-120v-720h720v720H120Zm60-500h600v-160H180v160Zm220 220h160v-160H400v160Zm0 220h160v-160H400v160ZM180-400h160v-160H180v160Zm440 0h160v-160H620v160ZM180-180h160v-160H180v160Zm440 0h160v-160H620v160Z\"/>\n",
              "  </svg>\n",
              "    </button>\n",
              "\n",
              "  <style>\n",
              "    .colab-df-container {\n",
              "      display:flex;\n",
              "      gap: 12px;\n",
              "    }\n",
              "\n",
              "    .colab-df-convert {\n",
              "      background-color: #E8F0FE;\n",
              "      border: none;\n",
              "      border-radius: 50%;\n",
              "      cursor: pointer;\n",
              "      display: none;\n",
              "      fill: #1967D2;\n",
              "      height: 32px;\n",
              "      padding: 0 0 0 0;\n",
              "      width: 32px;\n",
              "    }\n",
              "\n",
              "    .colab-df-convert:hover {\n",
              "      background-color: #E2EBFA;\n",
              "      box-shadow: 0px 1px 2px rgba(60, 64, 67, 0.3), 0px 1px 3px 1px rgba(60, 64, 67, 0.15);\n",
              "      fill: #174EA6;\n",
              "    }\n",
              "\n",
              "    .colab-df-buttons div {\n",
              "      margin-bottom: 4px;\n",
              "    }\n",
              "\n",
              "    [theme=dark] .colab-df-convert {\n",
              "      background-color: #3B4455;\n",
              "      fill: #D2E3FC;\n",
              "    }\n",
              "\n",
              "    [theme=dark] .colab-df-convert:hover {\n",
              "      background-color: #434B5C;\n",
              "      box-shadow: 0px 1px 3px 1px rgba(0, 0, 0, 0.15);\n",
              "      filter: drop-shadow(0px 1px 2px rgba(0, 0, 0, 0.3));\n",
              "      fill: #FFFFFF;\n",
              "    }\n",
              "  </style>\n",
              "\n",
              "    <script>\n",
              "      const buttonEl =\n",
              "        document.querySelector('#df-3e10cdc6-373a-4b94-bbcc-205dae425db7 button.colab-df-convert');\n",
              "      buttonEl.style.display =\n",
              "        google.colab.kernel.accessAllowed ? 'block' : 'none';\n",
              "\n",
              "      async function convertToInteractive(key) {\n",
              "        const element = document.querySelector('#df-3e10cdc6-373a-4b94-bbcc-205dae425db7');\n",
              "        const dataTable =\n",
              "          await google.colab.kernel.invokeFunction('convertToInteractive',\n",
              "                                                    [key], {});\n",
              "        if (!dataTable) return;\n",
              "\n",
              "        const docLinkHtml = 'Like what you see? Visit the ' +\n",
              "          '<a target=\"_blank\" href=https://colab.research.google.com/notebooks/data_table.ipynb>data table notebook</a>'\n",
              "          + ' to learn more about interactive tables.';\n",
              "        element.innerHTML = '';\n",
              "        dataTable['output_type'] = 'display_data';\n",
              "        await google.colab.output.renderOutput(dataTable, element);\n",
              "        const docLink = document.createElement('div');\n",
              "        docLink.innerHTML = docLinkHtml;\n",
              "        element.appendChild(docLink);\n",
              "      }\n",
              "    </script>\n",
              "  </div>\n",
              "\n",
              "\n",
              "<div id=\"df-ff5a0202-d736-4786-8a3e-8d676ab29bcf\">\n",
              "  <button class=\"colab-df-quickchart\" onclick=\"quickchart('df-ff5a0202-d736-4786-8a3e-8d676ab29bcf')\"\n",
              "            title=\"Suggest charts\"\n",
              "            style=\"display:none;\">\n",
              "\n",
              "<svg xmlns=\"http://www.w3.org/2000/svg\" height=\"24px\"viewBox=\"0 0 24 24\"\n",
              "     width=\"24px\">\n",
              "    <g>\n",
              "        <path d=\"M19 3H5c-1.1 0-2 .9-2 2v14c0 1.1.9 2 2 2h14c1.1 0 2-.9 2-2V5c0-1.1-.9-2-2-2zM9 17H7v-7h2v7zm4 0h-2V7h2v10zm4 0h-2v-4h2v4z\"/>\n",
              "    </g>\n",
              "</svg>\n",
              "  </button>\n",
              "\n",
              "<style>\n",
              "  .colab-df-quickchart {\n",
              "      --bg-color: #E8F0FE;\n",
              "      --fill-color: #1967D2;\n",
              "      --hover-bg-color: #E2EBFA;\n",
              "      --hover-fill-color: #174EA6;\n",
              "      --disabled-fill-color: #AAA;\n",
              "      --disabled-bg-color: #DDD;\n",
              "  }\n",
              "\n",
              "  [theme=dark] .colab-df-quickchart {\n",
              "      --bg-color: #3B4455;\n",
              "      --fill-color: #D2E3FC;\n",
              "      --hover-bg-color: #434B5C;\n",
              "      --hover-fill-color: #FFFFFF;\n",
              "      --disabled-bg-color: #3B4455;\n",
              "      --disabled-fill-color: #666;\n",
              "  }\n",
              "\n",
              "  .colab-df-quickchart {\n",
              "    background-color: var(--bg-color);\n",
              "    border: none;\n",
              "    border-radius: 50%;\n",
              "    cursor: pointer;\n",
              "    display: none;\n",
              "    fill: var(--fill-color);\n",
              "    height: 32px;\n",
              "    padding: 0;\n",
              "    width: 32px;\n",
              "  }\n",
              "\n",
              "  .colab-df-quickchart:hover {\n",
              "    background-color: var(--hover-bg-color);\n",
              "    box-shadow: 0 1px 2px rgba(60, 64, 67, 0.3), 0 1px 3px 1px rgba(60, 64, 67, 0.15);\n",
              "    fill: var(--button-hover-fill-color);\n",
              "  }\n",
              "\n",
              "  .colab-df-quickchart-complete:disabled,\n",
              "  .colab-df-quickchart-complete:disabled:hover {\n",
              "    background-color: var(--disabled-bg-color);\n",
              "    fill: var(--disabled-fill-color);\n",
              "    box-shadow: none;\n",
              "  }\n",
              "\n",
              "  .colab-df-spinner {\n",
              "    border: 2px solid var(--fill-color);\n",
              "    border-color: transparent;\n",
              "    border-bottom-color: var(--fill-color);\n",
              "    animation:\n",
              "      spin 1s steps(1) infinite;\n",
              "  }\n",
              "\n",
              "  @keyframes spin {\n",
              "    0% {\n",
              "      border-color: transparent;\n",
              "      border-bottom-color: var(--fill-color);\n",
              "      border-left-color: var(--fill-color);\n",
              "    }\n",
              "    20% {\n",
              "      border-color: transparent;\n",
              "      border-left-color: var(--fill-color);\n",
              "      border-top-color: var(--fill-color);\n",
              "    }\n",
              "    30% {\n",
              "      border-color: transparent;\n",
              "      border-left-color: var(--fill-color);\n",
              "      border-top-color: var(--fill-color);\n",
              "      border-right-color: var(--fill-color);\n",
              "    }\n",
              "    40% {\n",
              "      border-color: transparent;\n",
              "      border-right-color: var(--fill-color);\n",
              "      border-top-color: var(--fill-color);\n",
              "    }\n",
              "    60% {\n",
              "      border-color: transparent;\n",
              "      border-right-color: var(--fill-color);\n",
              "    }\n",
              "    80% {\n",
              "      border-color: transparent;\n",
              "      border-right-color: var(--fill-color);\n",
              "      border-bottom-color: var(--fill-color);\n",
              "    }\n",
              "    90% {\n",
              "      border-color: transparent;\n",
              "      border-bottom-color: var(--fill-color);\n",
              "    }\n",
              "  }\n",
              "</style>\n",
              "\n",
              "  <script>\n",
              "    async function quickchart(key) {\n",
              "      const quickchartButtonEl =\n",
              "        document.querySelector('#' + key + ' button');\n",
              "      quickchartButtonEl.disabled = true;  // To prevent multiple clicks.\n",
              "      quickchartButtonEl.classList.add('colab-df-spinner');\n",
              "      try {\n",
              "        const charts = await google.colab.kernel.invokeFunction(\n",
              "            'suggestCharts', [key], {});\n",
              "      } catch (error) {\n",
              "        console.error('Error during call to suggestCharts:', error);\n",
              "      }\n",
              "      quickchartButtonEl.classList.remove('colab-df-spinner');\n",
              "      quickchartButtonEl.classList.add('colab-df-quickchart-complete');\n",
              "    }\n",
              "    (() => {\n",
              "      let quickchartButtonEl =\n",
              "        document.querySelector('#df-ff5a0202-d736-4786-8a3e-8d676ab29bcf button');\n",
              "      quickchartButtonEl.style.display =\n",
              "        google.colab.kernel.accessAllowed ? 'block' : 'none';\n",
              "    })();\n",
              "  </script>\n",
              "</div>\n",
              "\n",
              "    </div>\n",
              "  </div>\n"
            ],
            "application/vnd.google.colaboratory.intrinsic+json": {
              "type": "dataframe",
              "variable_name": "test"
            }
          },
          "metadata": {},
          "execution_count": 5
        }
      ]
    },
    {
      "cell_type": "code",
      "source": [
        "#check the numbers of samples and features\n",
        "print(\"The train data size before dropping Id feature is : {}\".format(train.shape))\n",
        "print(\"The test data size before dropping Id feature is : {}\".format(test.shape))\n",
        "\n",
        "#Save the 'Id' column\n",
        "train_ID = train['Id']\n",
        "test_ID = test['Id']\n",
        "\n",
        "#Now drop the 'Id' colum since it's unnessary for the preidiction process.\n",
        "train.drop(\"Id\", axis=1, inplace=True)\n",
        "test.drop(\"Id\", axis=1, inplace=True)\n",
        "\n",
        "#check again the data size after dropping the 'Id' variable\n",
        "print(\"The train data size after dropping Id feature is : {}\".format(train.shape))\n",
        "print(\"The test data size after dropping Id feature is : {}\".format(test.shape))"
      ],
      "metadata": {
        "colab": {
          "base_uri": "https://localhost:8080/"
        },
        "id": "Y8tZ3Ge9N9b0",
        "outputId": "2c3c92c6-b66f-4c7e-a323-d906dec3f036"
      },
      "execution_count": 6,
      "outputs": [
        {
          "output_type": "stream",
          "name": "stdout",
          "text": [
            "The train data size before dropping Id feature is : (1460, 81)\n",
            "The test data size before dropping Id feature is : (1459, 80)\n",
            "The train data size after dropping Id feature is : (1460, 80)\n",
            "The test data size after dropping Id feature is : (1459, 79)\n"
          ]
        }
      ]
    },
    {
      "cell_type": "markdown",
      "source": [
        "##**Data Processing**\n",
        "###**Outliers**"
      ],
      "metadata": {
        "id": "xahSPj-ROwuJ"
      }
    },
    {
      "cell_type": "code",
      "source": [
        "fig, ax = plt.subplots()\n",
        "ax.scatter(x=train['GrLivArea'], y=train['SalePrice'])\n",
        "plt.ylabel('SalePrice', fontsize=13)\n",
        "plt.xlabel('GrLivArea', fontsize=13)\n",
        "plt.show()"
      ],
      "metadata": {
        "colab": {
          "base_uri": "https://localhost:8080/",
          "height": 453
        },
        "id": "GAa30cjNO6Py",
        "outputId": "dd5e1f48-c34e-4b9e-ff9f-3faa051c6ffc"
      },
      "execution_count": 7,
      "outputs": [
        {
          "output_type": "display_data",
          "data": {
            "text/plain": [
              "<Figure size 640x480 with 1 Axes>"
            ],
            "image/png": "[encoded data removed]"
          },
          "metadata": {}
        }
      ]
    },
    {
      "cell_type": "markdown",
      "source": [
        "오른쪽 아래 GrLivArea가 매우 크고 SalePrice가 작은 데이터들을 볼 수 있는데 이는 굉장히 많이 벗어난 아웃라이어로 이를 제거할 것."
      ],
      "metadata": {
        "id": "fpc9k_N2PUjz"
      }
    },
    {
      "cell_type": "code",
      "source": [
        "#Deleting outliers -> 2개의 점 삭제\n",
        "train = train.drop(train[(train['GrLivArea']>4000) & (train['SalePrice']<300000)].index)\n",
        "\n",
        "#Check the graphic again\n",
        "fig, ax = plt.subplots()\n",
        "ax.scatter(train['GrLivArea'], train['SalePrice'])\n",
        "plt.ylabel('SalePrice', fontsize=13)\n",
        "plt.xlabel('GrLivArea', fontsize=13)\n",
        "plt.show()"
      ],
      "metadata": {
        "colab": {
          "base_uri": "https://localhost:8080/",
          "height": 453
        },
        "id": "HuHY8ah5PlSu",
        "outputId": "90d06f99-952f-4dcb-fe67-b5d4b672f2c9"
      },
      "execution_count": 8,
      "outputs": [
        {
          "output_type": "display_data",
          "data": {
            "text/plain": [
              "<Figure size 640x480 with 1 Axes>"
            ],
            "image/png": "[encoded data removed]"
          },
          "metadata": {}
        }
      ]
    },
    {
      "cell_type": "markdown",
      "source": [
        "**NOTE**\n",
        "- 아웃라이어 제거는 극단적으로 크고 안 좋은 값으로 삭제해야한다.\n",
        "- 모든 아웃라이어를 제거하는 것은 테스트 데이터에 아웃라이어가 있을 경우 모델에 안 좋은 영향을 줄 수 있으므로 약간의 아웃라이어를 남겨두어 모델이 아웃라이어도 고려할 수 있도록 한다."
      ],
      "metadata": {
        "id": "ij6OyIY0QgKT"
      }
    },
    {
      "cell_type": "markdown",
      "source": [
        "###**Target Variable**\n",
        "**SalePrice**: 예측해야할 변수."
      ],
      "metadata": {
        "id": "RhtIhj_ARMoe"
      }
    },
    {
      "cell_type": "code",
      "source": [
        "sns.distplot(train['SalePrice'], fit=norm);\n",
        "\n",
        "#Get the fitted parameters used by the function\n",
        "(mu, sigma) = norm.fit(train['SalePrice'])\n",
        "print('\\n mu = {:.2f} and sigma = {:.2f}\\n'.format(mu, sigma))\n",
        "\n",
        "#Now plot the distribution\n",
        "plt.legend(['Normal dist. ($\\mu=$ {:.2f} and $\\sigma=$ {:.2f})'.format(mu, sigma)], loc='best')\n",
        "\n",
        "plt.ylabel('Frequency')\n",
        "plt.title('SalePrice distribution')\n",
        "\n",
        "#Get also the QQ-plot\n",
        "fig = plt.figure()\n",
        "res = stats.probplot(train['SalePrice'], plot=plt)\n",
        "plt.show()"
      ],
      "metadata": {
        "colab": {
          "base_uri": "https://localhost:8080/",
          "height": 983
        },
        "id": "KjDeIfDyRLUq",
        "outputId": "256a581a-8db5-4eda-ba1a-d5cd9c016036"
      },
      "execution_count": 9,
      "outputs": [
        {
          "output_type": "stream",
          "name": "stdout",
          "text": [
            "\n",
            " mu = 180932.92 and sigma = 79467.79\n",
            "\n"
          ]
        },
        {
          "output_type": "display_data",
          "data": {
            "text/plain": [
              "<Figure size 640x480 with 1 Axes>"
            ],
            "image/png": "[encoded data removed]"
          },
          "metadata": {}
        },
        {
          "output_type": "display_data",
          "data": {
            "text/plain": [
              "<Figure size 640x480 with 1 Axes>"
            ],
            "image/png": "[encoded data removed]"
          },
          "metadata": {}
        }
      ]
    },
    {
      "cell_type": "markdown",
      "source": [
        "target variable(SalePrice)가 right-skewed인 것을 확인했다. 선형모델은 정규분포를 선호하므로 transform을 하여 정규화시켜준다."
      ],
      "metadata": {
        "id": "sVWcXkFPSq-u"
      }
    },
    {
      "cell_type": "markdown",
      "source": [
        "####**Log-trainsformation of the target variable**"
      ],
      "metadata": {
        "id": "Xrawe5lLVHpU"
      }
    },
    {
      "cell_type": "code",
      "source": [
        "#We use the numpy fuction log1p which applies log(1+x) to all elements of the column\n",
        "train[\"SalePrice\"] = np.log1p(train[\"SalePrice\"])\n",
        "\n",
        "#Check the new distribution\n",
        "sns.distplot(train['SalePrice'], fit=norm);\n",
        "\n",
        "#Get the fitted parameters used by the fuction\n",
        "(mu, sigma) = norm.fit(train['SalePrice'])\n",
        "print('\\n mu = {:.2f} and sigma = {:.2f}\\n'.format(mu, sigma))\n",
        "\n",
        "#Now plot the distribution\n",
        "plt.legend(['Normal dist. ($\\mu=$ {:.2f} and $\\sigma=$ {:.2f})'.format(mu, sigma)], loc='best')\n",
        "plt.ylabel('Frequency')\n",
        "plt.title('SalePrice distribution')\n",
        "\n",
        "#Get also the QQ-plot\n",
        "fig = plt.figure()\n",
        "res = stats.probplot(train['SalePrice'], plot=plt)\n",
        "plt.show()"
      ],
      "metadata": {
        "colab": {
          "base_uri": "https://localhost:8080/",
          "height": 983
        },
        "id": "Y1JRRfV6S7vO",
        "outputId": "bc8698b6-6116-49b2-ded6-5a8a101d984b"
      },
      "execution_count": 10,
      "outputs": [
        {
          "output_type": "stream",
          "name": "stdout",
          "text": [
            "\n",
            " mu = 12.02 and sigma = 0.40\n",
            "\n"
          ]
        },
        {
          "output_type": "display_data",
          "data": {
            "text/plain": [
              "<Figure size 640x480 with 1 Axes>"
            ],
            "image/png": "[encoded data removed]"
          },
          "metadata": {}
        },
        {
          "output_type": "display_data",
          "data": {
            "text/plain": [
              "<Figure size 640x480 with 1 Axes>"
            ],
            "image/png": "[encoded data removed]"
          },
          "metadata": {}
        }
      ]
    },
    {
      "cell_type": "markdown",
      "source": [
        "skew가 해결되고 정규화 되었다!"
      ],
      "metadata": {
        "id": "EYu_-izoU2x7"
      }
    },
    {
      "cell_type": "markdown",
      "source": [
        "###**Features engineering**"
      ],
      "metadata": {
        "id": "oNCCHrlnU8QV"
      }
    },
    {
      "cell_type": "code",
      "source": [
        "#concatenate the train & test data in the same dataframe\n",
        "ntrain = train.shape[0]\n",
        "ntest = test.shape[0]\n",
        "y_train = train.SalePrice.values\n",
        "all_data = pd.concat((train, test)).reset_index(drop=True)\n",
        "all_data.drop(['SalePrice'], axis=1, inplace=True)\n",
        "print(\"all_data size is : {}\".format(all_data.shape))"
      ],
      "metadata": {
        "colab": {
          "base_uri": "https://localhost:8080/"
        },
        "id": "HUYaqVDdU7o2",
        "outputId": "bd636e48-c0fd-4d9d-c572-8bf582f100f1"
      },
      "execution_count": 11,
      "outputs": [
        {
          "output_type": "stream",
          "name": "stdout",
          "text": [
            "all_data size is : (2917, 79)\n"
          ]
        }
      ]
    },
    {
      "cell_type": "code",
      "source": [
        "all_data"
      ],
      "metadata": {
        "colab": {
          "base_uri": "https://localhost:8080/",
          "height": 443
        },
        "id": "cKRNLyHZWI-N",
        "outputId": "547459e7-8ef5-4417-afc4-cc5c0f8f5398"
      },
      "execution_count": 12,
      "outputs": [
        {
          "output_type": "execute_result",
          "data": {
            "text/plain": [
              "      MSSubClass MSZoning  LotFrontage  LotArea Street Alley LotShape  \\\n",
              "0             60       RL       65.000     8450   Pave   NaN      Reg   \n",
              "1             20       RL       80.000     9600   Pave   NaN      Reg   \n",
              "2             60       RL       68.000    11250   Pave   NaN      IR1   \n",
              "3             70       RL       60.000     9550   Pave   NaN      IR1   \n",
              "4             60       RL       84.000    14260   Pave   NaN      IR1   \n",
              "...          ...      ...          ...      ...    ...   ...      ...   \n",
              "2912         160       RM       21.000     1936   Pave   NaN      Reg   \n",
              "2913         160       RM       21.000     1894   Pave   NaN      Reg   \n",
              "2914          20       RL      160.000    20000   Pave   NaN      Reg   \n",
              "2915          85       RL       62.000    10441   Pave   NaN      Reg   \n",
              "2916          60       RL       74.000     9627   Pave   NaN      Reg   \n",
              "\n",
              "     LandContour Utilities LotConfig  ... ScreenPorch PoolArea PoolQC  Fence  \\\n",
              "0            Lvl    AllPub    Inside  ...           0        0    NaN    NaN   \n",
              "1            Lvl    AllPub       FR2  ...           0        0    NaN    NaN   \n",
              "2            Lvl    AllPub    Inside  ...           0        0    NaN    NaN   \n",
              "3            Lvl    AllPub    Corner  ...           0        0    NaN    NaN   \n",
              "4            Lvl    AllPub       FR2  ...           0        0    NaN    NaN   \n",
              "...          ...       ...       ...  ...         ...      ...    ...    ...   \n",
              "2912         Lvl    AllPub    Inside  ...           0        0    NaN    NaN   \n",
              "2913         Lvl    AllPub    Inside  ...           0        0    NaN    NaN   \n",
              "2914         Lvl    AllPub    Inside  ...           0        0    NaN    NaN   \n",
              "2915         Lvl    AllPub    Inside  ...           0        0    NaN  MnPrv   \n",
              "2916         Lvl    AllPub    Inside  ...           0        0    NaN    NaN   \n",
              "\n",
              "     MiscFeature MiscVal  MoSold  YrSold  SaleType  SaleCondition  \n",
              "0            NaN       0       2    2008        WD         Normal  \n",
              "1            NaN       0       5    2007        WD         Normal  \n",
              "2            NaN       0       9    2008        WD         Normal  \n",
              "3            NaN       0       2    2006        WD        Abnorml  \n",
              "4            NaN       0      12    2008        WD         Normal  \n",
              "...          ...     ...     ...     ...       ...            ...  \n",
              "2912         NaN       0       6    2006        WD         Normal  \n",
              "2913         NaN       0       4    2006        WD        Abnorml  \n",
              "2914         NaN       0       9    2006        WD        Abnorml  \n",
              "2915        Shed     700       7    2006        WD         Normal  \n",
              "2916         NaN       0      11    2006        WD         Normal  \n",
              "\n",
              "[2917 rows x 79 columns]"
            ],
            "text/html": [
              "\n",
              "  <div id=\"df-83553ffd-76da-469b-b07f-7186c21e0a34\" class=\"colab-df-container\">\n",
              "    <div>\n",
              "<style scoped>\n",
              "    .dataframe tbody tr th:only-of-type {\n",
              "        vertical-align: middle;\n",
              "    }\n",
              "\n",
              "    .dataframe tbody tr th {\n",
              "        vertical-align: top;\n",
              "    }\n",
              "\n",
              "    .dataframe thead th {\n",
              "        text-align: right;\n",
              "    }\n",
              "</style>\n",
              "<table border=\"1\" class=\"dataframe\">\n",
              "  <thead>\n",
              "    <tr style=\"text-align: right;\">\n",
              "      <th></th>\n",
              "      <th>MSSubClass</th>\n",
              "      <th>MSZoning</th>\n",
              "      <th>LotFrontage</th>\n",
              "      <th>LotArea</th>\n",
              "      <th>Street</th>\n",
              "      <th>Alley</th>\n",
              "      <th>LotShape</th>\n",
              "      <th>LandContour</th>\n",
              "      <th>Utilities</th>\n",
              "      <th>LotConfig</th>\n",
              "      <th>...</th>\n",
              "      <th>ScreenPorch</th>\n",
              "      <th>PoolArea</th>\n",
              "      <th>PoolQC</th>\n",
              "      <th>Fence</th>\n",
              "      <th>MiscFeature</th>\n",
              "      <th>MiscVal</th>\n",
              "      <th>MoSold</th>\n",
              "      <th>YrSold</th>\n",
              "      <th>SaleType</th>\n",
              "      <th>SaleCondition</th>\n",
              "    </tr>\n",
              "  </thead>\n",
              "  <tbody>\n",
              "    <tr>\n",
              "      <th>0</th>\n",
              "      <td>60</td>\n",
              "      <td>RL</td>\n",
              "      <td>65.000</td>\n",
              "      <td>8450</td>\n",
              "      <td>Pave</td>\n",
              "      <td>NaN</td>\n",
              "      <td>Reg</td>\n",
              "      <td>Lvl</td>\n",
              "      <td>AllPub</td>\n",
              "      <td>Inside</td>\n",
              "      <td>...</td>\n",
              "      <td>0</td>\n",
              "      <td>0</td>\n",
              "      <td>NaN</td>\n",
              "      <td>NaN</td>\n",
              "      <td>NaN</td>\n",
              "      <td>0</td>\n",
              "      <td>2</td>\n",
              "      <td>2008</td>\n",
              "      <td>WD</td>\n",
              "      <td>Normal</td>\n",
              "    </tr>\n",
              "    <tr>\n",
              "      <th>1</th>\n",
              "      <td>20</td>\n",
              "      <td>RL</td>\n",
              "      <td>80.000</td>\n",
              "      <td>9600</td>\n",
              "      <td>Pave</td>\n",
              "      <td>NaN</td>\n",
              "      <td>Reg</td>\n",
              "      <td>Lvl</td>\n",
              "      <td>AllPub</td>\n",
              "      <td>FR2</td>\n",
              "      <td>...</td>\n",
              "      <td>0</td>\n",
              "      <td>0</td>\n",
              "      <td>NaN</td>\n",
              "      <td>NaN</td>\n",
              "      <td>NaN</td>\n",
              "      <td>0</td>\n",
              "      <td>5</td>\n",
              "      <td>2007</td>\n",
              "      <td>WD</td>\n",
              "      <td>Normal</td>\n",
              "    </tr>\n",
              "    <tr>\n",
              "      <th>2</th>\n",
              "      <td>60</td>\n",
              "      <td>RL</td>\n",
              "      <td>68.000</td>\n",
              "      <td>11250</td>\n",
              "      <td>Pave</td>\n",
              "      <td>NaN</td>\n",
              "      <td>IR1</td>\n",
              "      <td>Lvl</td>\n",
              "      <td>AllPub</td>\n",
              "      <td>Inside</td>\n",
              "      <td>...</td>\n",
              "      <td>0</td>\n",
              "      <td>0</td>\n",
              "      <td>NaN</td>\n",
              "      <td>NaN</td>\n",
              "      <td>NaN</td>\n",
              "      <td>0</td>\n",
              "      <td>9</td>\n",
              "      <td>2008</td>\n",
              "      <td>WD</td>\n",
              "      <td>Normal</td>\n",
              "    </tr>\n",
              "    <tr>\n",
              "      <th>3</th>\n",
              "      <td>70</td>\n",
              "      <td>RL</td>\n",
              "      <td>60.000</td>\n",
              "      <td>9550</td>\n",
              "      <td>Pave</td>\n",
              "      <td>NaN</td>\n",
              "      <td>IR1</td>\n",
              "      <td>Lvl</td>\n",
              "      <td>AllPub</td>\n",
              "      <td>Corner</td>\n",
              "      <td>...</td>\n",
              "      <td>0</td>\n",
              "      <td>0</td>\n",
              "      <td>NaN</td>\n",
              "      <td>NaN</td>\n",
              "      <td>NaN</td>\n",
              "      <td>0</td>\n",
              "      <td>2</td>\n",
              "      <td>2006</td>\n",
              "      <td>WD</td>\n",
              "      <td>Abnorml</td>\n",
              "    </tr>\n",
              "    <tr>\n",
              "      <th>4</th>\n",
              "      <td>60</td>\n",
              "      <td>RL</td>\n",
              "      <td>84.000</td>\n",
              "      <td>14260</td>\n",
              "      <td>Pave</td>\n",
              "      <td>NaN</td>\n",
              "      <td>IR1</td>\n",
              "      <td>Lvl</td>\n",
              "      <td>AllPub</td>\n",
              "      <td>FR2</td>\n",
              "      <td>...</td>\n",
              "      <td>0</td>\n",
              "      <td>0</td>\n",
              "      <td>NaN</td>\n",
              "      <td>NaN</td>\n",
              "      <td>NaN</td>\n",
              "      <td>0</td>\n",
              "      <td>12</td>\n",
              "      <td>2008</td>\n",
              "      <td>WD</td>\n",
              "      <td>Normal</td>\n",
              "    </tr>\n",
              "    <tr>\n",
              "      <th>...</th>\n",
              "      <td>...</td>\n",
              "      <td>...</td>\n",
              "      <td>...</td>\n",
              "      <td>...</td>\n",
              "      <td>...</td>\n",
              "      <td>...</td>\n",
              "      <td>...</td>\n",
              "      <td>...</td>\n",
              "      <td>...</td>\n",
              "      <td>...</td>\n",
              "      <td>...</td>\n",
              "      <td>...</td>\n",
              "      <td>...</td>\n",
              "      <td>...</td>\n",
              "      <td>...</td>\n",
              "      <td>...</td>\n",
              "      <td>...</td>\n",
              "      <td>...</td>\n",
              "      <td>...</td>\n",
              "      <td>...</td>\n",
              "      <td>...</td>\n",
              "    </tr>\n",
              "    <tr>\n",
              "      <th>2912</th>\n",
              "      <td>160</td>\n",
              "      <td>RM</td>\n",
              "      <td>21.000</td>\n",
              "      <td>1936</td>\n",
              "      <td>Pave</td>\n",
              "      <td>NaN</td>\n",
              "      <td>Reg</td>\n",
              "      <td>Lvl</td>\n",
              "      <td>AllPub</td>\n",
              "      <td>Inside</td>\n",
              "      <td>...</td>\n",
              "      <td>0</td>\n",
              "      <td>0</td>\n",
              "      <td>NaN</td>\n",
              "      <td>NaN</td>\n",
              "      <td>NaN</td>\n",
              "      <td>0</td>\n",
              "      <td>6</td>\n",
              "      <td>2006</td>\n",
              "      <td>WD</td>\n",
              "      <td>Normal</td>\n",
              "    </tr>\n",
              "    <tr>\n",
              "      <th>2913</th>\n",
              "      <td>160</td>\n",
              "      <td>RM</td>\n",
              "      <td>21.000</td>\n",
              "      <td>1894</td>\n",
              "      <td>Pave</td>\n",
              "      <td>NaN</td>\n",
              "      <td>Reg</td>\n",
              "      <td>Lvl</td>\n",
              "      <td>AllPub</td>\n",
              "      <td>Inside</td>\n",
              "      <td>...</td>\n",
              "      <td>0</td>\n",
              "      <td>0</td>\n",
              "      <td>NaN</td>\n",
              "      <td>NaN</td>\n",
              "      <td>NaN</td>\n",
              "      <td>0</td>\n",
              "      <td>4</td>\n",
              "      <td>2006</td>\n",
              "      <td>WD</td>\n",
              "      <td>Abnorml</td>\n",
              "    </tr>\n",
              "    <tr>\n",
              "      <th>2914</th>\n",
              "      <td>20</td>\n",
              "      <td>RL</td>\n",
              "      <td>160.000</td>\n",
              "      <td>20000</td>\n",
              "      <td>Pave</td>\n",
              "      <td>NaN</td>\n",
              "      <td>Reg</td>\n",
              "      <td>Lvl</td>\n",
              "      <td>AllPub</td>\n",
              "      <td>Inside</td>\n",
              "      <td>...</td>\n",
              "      <td>0</td>\n",
              "      <td>0</td>\n",
              "      <td>NaN</td>\n",
              "      <td>NaN</td>\n",
              "      <td>NaN</td>\n",
              "      <td>0</td>\n",
              "      <td>9</td>\n",
              "      <td>2006</td>\n",
              "      <td>WD</td>\n",
              "      <td>Abnorml</td>\n",
              "    </tr>\n",
              "    <tr>\n",
              "      <th>2915</th>\n",
              "      <td>85</td>\n",
              "      <td>RL</td>\n",
              "      <td>62.000</td>\n",
              "      <td>10441</td>\n",
              "      <td>Pave</td>\n",
              "      <td>NaN</td>\n",
              "      <td>Reg</td>\n",
              "      <td>Lvl</td>\n",
              "      <td>AllPub</td>\n",
              "      <td>Inside</td>\n",
              "      <td>...</td>\n",
              "      <td>0</td>\n",
              "      <td>0</td>\n",
              "      <td>NaN</td>\n",
              "      <td>MnPrv</td>\n",
              "      <td>Shed</td>\n",
              "      <td>700</td>\n",
              "      <td>7</td>\n",
              "      <td>2006</td>\n",
              "      <td>WD</td>\n",
              "      <td>Normal</td>\n",
              "    </tr>\n",
              "    <tr>\n",
              "      <th>2916</th>\n",
              "      <td>60</td>\n",
              "      <td>RL</td>\n",
              "      <td>74.000</td>\n",
              "      <td>9627</td>\n",
              "      <td>Pave</td>\n",
              "      <td>NaN</td>\n",
              "      <td>Reg</td>\n",
              "      <td>Lvl</td>\n",
              "      <td>AllPub</td>\n",
              "      <td>Inside</td>\n",
              "      <td>...</td>\n",
              "      <td>0</td>\n",
              "      <td>0</td>\n",
              "      <td>NaN</td>\n",
              "      <td>NaN</td>\n",
              "      <td>NaN</td>\n",
              "      <td>0</td>\n",
              "      <td>11</td>\n",
              "      <td>2006</td>\n",
              "      <td>WD</td>\n",
              "      <td>Normal</td>\n",
              "    </tr>\n",
              "  </tbody>\n",
              "</table>\n",
              "<p>2917 rows × 79 columns</p>\n",
              "</div>\n",
              "    <div class=\"colab-df-buttons\">\n",
              "\n",
              "  <div class=\"colab-df-container\">\n",
              "    <button class=\"colab-df-convert\" onclick=\"convertToInteractive('df-83553ffd-76da-469b-b07f-7186c21e0a34')\"\n",
              "            title=\"Convert this dataframe to an interactive table.\"\n",
              "            style=\"display:none;\">\n",
              "\n",
              "  <svg xmlns=\"http://www.w3.org/2000/svg\" height=\"24px\" viewBox=\"0 -960 960 960\">\n",
              "    <path d=\"M120-120v-720h720v720H120Zm60-500h600v-160H180v160Zm220 220h160v-160H400v160Zm0 220h160v-160H400v160ZM180-400h160v-160H180v160Zm440 0h160v-160H620v160ZM180-180h160v-160H180v160Zm440 0h160v-160H620v160Z\"/>\n",
              "  </svg>\n",
              "    </button>\n",
              "\n",
              "  <style>\n",
              "    .colab-df-container {\n",
              "      display:flex;\n",
              "      gap: 12px;\n",
              "    }\n",
              "\n",
              "    .colab-df-convert {\n",
              "      background-color: #E8F0FE;\n",
              "      border: none;\n",
              "      border-radius: 50%;\n",
              "      cursor: pointer;\n",
              "      display: none;\n",
              "      fill: #1967D2;\n",
              "      height: 32px;\n",
              "      padding: 0 0 0 0;\n",
              "      width: 32px;\n",
              "    }\n",
              "\n",
              "    .colab-df-convert:hover {\n",
              "      background-color: #E2EBFA;\n",
              "      box-shadow: 0px 1px 2px rgba(60, 64, 67, 0.3), 0px 1px 3px 1px rgba(60, 64, 67, 0.15);\n",
              "      fill: #174EA6;\n",
              "    }\n",
              "\n",
              "    .colab-df-buttons div {\n",
              "      margin-bottom: 4px;\n",
              "    }\n",
              "\n",
              "    [theme=dark] .colab-df-convert {\n",
              "      background-color: #3B4455;\n",
              "      fill: #D2E3FC;\n",
              "    }\n",
              "\n",
              "    [theme=dark] .colab-df-convert:hover {\n",
              "      background-color: #434B5C;\n",
              "      box-shadow: 0px 1px 3px 1px rgba(0, 0, 0, 0.15);\n",
              "      filter: drop-shadow(0px 1px 2px rgba(0, 0, 0, 0.3));\n",
              "      fill: #FFFFFF;\n",
              "    }\n",
              "  </style>\n",
              "\n",
              "    <script>\n",
              "      const buttonEl =\n",
              "        document.querySelector('#df-83553ffd-76da-469b-b07f-7186c21e0a34 button.colab-df-convert');\n",
              "      buttonEl.style.display =\n",
              "        google.colab.kernel.accessAllowed ? 'block' : 'none';\n",
              "\n",
              "      async function convertToInteractive(key) {\n",
              "        const element = document.querySelector('#df-83553ffd-76da-469b-b07f-7186c21e0a34');\n",
              "        const dataTable =\n",
              "          await google.colab.kernel.invokeFunction('convertToInteractive',\n",
              "                                                    [key], {});\n",
              "        if (!dataTable) return;\n",
              "\n",
              "        const docLinkHtml = 'Like what you see? Visit the ' +\n",
              "          '<a target=\"_blank\" href=https://colab.research.google.com/notebooks/data_table.ipynb>data table notebook</a>'\n",
              "          + ' to learn more about interactive tables.';\n",
              "        element.innerHTML = '';\n",
              "        dataTable['output_type'] = 'display_data';\n",
              "        await google.colab.output.renderOutput(dataTable, element);\n",
              "        const docLink = document.createElement('div');\n",
              "        docLink.innerHTML = docLinkHtml;\n",
              "        element.appendChild(docLink);\n",
              "      }\n",
              "    </script>\n",
              "  </div>\n",
              "\n",
              "\n",
              "<div id=\"df-ac97086d-b4b5-44b0-87d7-9d7d7c180ce8\">\n",
              "  <button class=\"colab-df-quickchart\" onclick=\"quickchart('df-ac97086d-b4b5-44b0-87d7-9d7d7c180ce8')\"\n",
              "            title=\"Suggest charts\"\n",
              "            style=\"display:none;\">\n",
              "\n",
              "<svg xmlns=\"http://www.w3.org/2000/svg\" height=\"24px\"viewBox=\"0 0 24 24\"\n",
              "     width=\"24px\">\n",
              "    <g>\n",
              "        <path d=\"M19 3H5c-1.1 0-2 .9-2 2v14c0 1.1.9 2 2 2h14c1.1 0 2-.9 2-2V5c0-1.1-.9-2-2-2zM9 17H7v-7h2v7zm4 0h-2V7h2v10zm4 0h-2v-4h2v4z\"/>\n",
              "    </g>\n",
              "</svg>\n",
              "  </button>\n",
              "\n",
              "<style>\n",
              "  .colab-df-quickchart {\n",
              "      --bg-color: #E8F0FE;\n",
              "      --fill-color: #1967D2;\n",
              "      --hover-bg-color: #E2EBFA;\n",
              "      --hover-fill-color: #174EA6;\n",
              "      --disabled-fill-color: #AAA;\n",
              "      --disabled-bg-color: #DDD;\n",
              "  }\n",
              "\n",
              "  [theme=dark] .colab-df-quickchart {\n",
              "      --bg-color: #3B4455;\n",
              "      --fill-color: #D2E3FC;\n",
              "      --hover-bg-color: #434B5C;\n",
              "      --hover-fill-color: #FFFFFF;\n",
              "      --disabled-bg-color: #3B4455;\n",
              "      --disabled-fill-color: #666;\n",
              "  }\n",
              "\n",
              "  .colab-df-quickchart {\n",
              "    background-color: var(--bg-color);\n",
              "    border: none;\n",
              "    border-radius: 50%;\n",
              "    cursor: pointer;\n",
              "    display: none;\n",
              "    fill: var(--fill-color);\n",
              "    height: 32px;\n",
              "    padding: 0;\n",
              "    width: 32px;\n",
              "  }\n",
              "\n",
              "  .colab-df-quickchart:hover {\n",
              "    background-color: var(--hover-bg-color);\n",
              "    box-shadow: 0 1px 2px rgba(60, 64, 67, 0.3), 0 1px 3px 1px rgba(60, 64, 67, 0.15);\n",
              "    fill: var(--button-hover-fill-color);\n",
              "  }\n",
              "\n",
              "  .colab-df-quickchart-complete:disabled,\n",
              "  .colab-df-quickchart-complete:disabled:hover {\n",
              "    background-color: var(--disabled-bg-color);\n",
              "    fill: var(--disabled-fill-color);\n",
              "    box-shadow: none;\n",
              "  }\n",
              "\n",
              "  .colab-df-spinner {\n",
              "    border: 2px solid var(--fill-color);\n",
              "    border-color: transparent;\n",
              "    border-bottom-color: var(--fill-color);\n",
              "    animation:\n",
              "      spin 1s steps(1) infinite;\n",
              "  }\n",
              "\n",
              "  @keyframes spin {\n",
              "    0% {\n",
              "      border-color: transparent;\n",
              "      border-bottom-color: var(--fill-color);\n",
              "      border-left-color: var(--fill-color);\n",
              "    }\n",
              "    20% {\n",
              "      border-color: transparent;\n",
              "      border-left-color: var(--fill-color);\n",
              "      border-top-color: var(--fill-color);\n",
              "    }\n",
              "    30% {\n",
              "      border-color: transparent;\n",
              "      border-left-color: var(--fill-color);\n",
              "      border-top-color: var(--fill-color);\n",
              "      border-right-color: var(--fill-color);\n",
              "    }\n",
              "    40% {\n",
              "      border-color: transparent;\n",
              "      border-right-color: var(--fill-color);\n",
              "      border-top-color: var(--fill-color);\n",
              "    }\n",
              "    60% {\n",
              "      border-color: transparent;\n",
              "      border-right-color: var(--fill-color);\n",
              "    }\n",
              "    80% {\n",
              "      border-color: transparent;\n",
              "      border-right-color: var(--fill-color);\n",
              "      border-bottom-color: var(--fill-color);\n",
              "    }\n",
              "    90% {\n",
              "      border-color: transparent;\n",
              "      border-bottom-color: var(--fill-color);\n",
              "    }\n",
              "  }\n",
              "</style>\n",
              "\n",
              "  <script>\n",
              "    async function quickchart(key) {\n",
              "      const quickchartButtonEl =\n",
              "        document.querySelector('#' + key + ' button');\n",
              "      quickchartButtonEl.disabled = true;  // To prevent multiple clicks.\n",
              "      quickchartButtonEl.classList.add('colab-df-spinner');\n",
              "      try {\n",
              "        const charts = await google.colab.kernel.invokeFunction(\n",
              "            'suggestCharts', [key], {});\n",
              "      } catch (error) {\n",
              "        console.error('Error during call to suggestCharts:', error);\n",
              "      }\n",
              "      quickchartButtonEl.classList.remove('colab-df-spinner');\n",
              "      quickchartButtonEl.classList.add('colab-df-quickchart-complete');\n",
              "    }\n",
              "    (() => {\n",
              "      let quickchartButtonEl =\n",
              "        document.querySelector('#df-ac97086d-b4b5-44b0-87d7-9d7d7c180ce8 button');\n",
              "      quickchartButtonEl.style.display =\n",
              "        google.colab.kernel.accessAllowed ? 'block' : 'none';\n",
              "    })();\n",
              "  </script>\n",
              "</div>\n",
              "\n",
              "  <div id=\"id_f2963b2b-0fda-4067-a85f-7f0c5707d8d3\">\n",
              "    <style>\n",
              "      .colab-df-generate {\n",
              "        background-color: #E8F0FE;\n",
              "        border: none;\n",
              "        border-radius: 50%;\n",
              "        cursor: pointer;\n",
              "        display: none;\n",
              "        fill: #1967D2;\n",
              "        height: 32px;\n",
              "        padding: 0 0 0 0;\n",
              "        width: 32px;\n",
              "      }\n",
              "\n",
              "      .colab-df-generate:hover {\n",
              "        background-color: #E2EBFA;\n",
              "        box-shadow: 0px 1px 2px rgba(60, 64, 67, 0.3), 0px 1px 3px 1px rgba(60, 64, 67, 0.15);\n",
              "        fill: #174EA6;\n",
              "      }\n",
              "\n",
              "      [theme=dark] .colab-df-generate {\n",
              "        background-color: #3B4455;\n",
              "        fill: #D2E3FC;\n",
              "      }\n",
              "\n",
              "      [theme=dark] .colab-df-generate:hover {\n",
              "        background-color: #434B5C;\n",
              "        box-shadow: 0px 1px 3px 1px rgba(0, 0, 0, 0.15);\n",
              "        filter: drop-shadow(0px 1px 2px rgba(0, 0, 0, 0.3));\n",
              "        fill: #FFFFFF;\n",
              "      }\n",
              "    </style>\n",
              "    <button class=\"colab-df-generate\" onclick=\"generateWithVariable('all_data')\"\n",
              "            title=\"Generate code using this dataframe.\"\n",
              "            style=\"display:none;\">\n",
              "\n",
              "  <svg xmlns=\"http://www.w3.org/2000/svg\" height=\"24px\"viewBox=\"0 0 24 24\"\n",
              "       width=\"24px\">\n",
              "    <path d=\"M7,19H8.4L18.45,9,17,7.55,7,17.6ZM5,21V16.75L18.45,3.32a2,2,0,0,1,2.83,0l1.4,1.43a1.91,1.91,0,0,1,.58,1.4,1.91,1.91,0,0,1-.58,1.4L9.25,21ZM18.45,9,17,7.55Zm-12,3A5.31,5.31,0,0,0,4.9,8.1,5.31,5.31,0,0,0,1,6.5,5.31,5.31,0,0,0,4.9,4.9,5.31,5.31,0,0,0,6.5,1,5.31,5.31,0,0,0,8.1,4.9,5.31,5.31,0,0,0,12,6.5,5.46,5.46,0,0,0,6.5,12Z\"/>\n",
              "  </svg>\n",
              "    </button>\n",
              "    <script>\n",
              "      (() => {\n",
              "      const buttonEl =\n",
              "        document.querySelector('#id_f2963b2b-0fda-4067-a85f-7f0c5707d8d3 button.colab-df-generate');\n",
              "      buttonEl.style.display =\n",
              "        google.colab.kernel.accessAllowed ? 'block' : 'none';\n",
              "\n",
              "      buttonEl.onclick = () => {\n",
              "        google.colab.notebook.generateWithVariable('all_data');\n",
              "      }\n",
              "      })();\n",
              "    </script>\n",
              "  </div>\n",
              "\n",
              "    </div>\n",
              "  </div>\n"
            ],
            "application/vnd.google.colaboratory.intrinsic+json": {
              "type": "dataframe",
              "variable_name": "all_data"
            }
          },
          "metadata": {},
          "execution_count": 12
        }
      ]
    },
    {
      "cell_type": "markdown",
      "source": [
        "####**Missing Data**"
      ],
      "metadata": {
        "id": "MAxCUD0AWPIr"
      }
    },
    {
      "cell_type": "code",
      "source": [
        "all_data_na = (all_data.isnull().sum() / len(all_data)) *100\n",
        "all_data_na = all_data_na.drop(all_data_na[all_data_na==0].index).sort_values(ascending=False)[:30]\n",
        "missing_data = pd.DataFrame({'Missing Ratio': all_data_na})\n",
        "missing_data.head(20)"
      ],
      "metadata": {
        "colab": {
          "base_uri": "https://localhost:8080/",
          "height": 676
        },
        "id": "b33zbLZQWLjB",
        "outputId": "307252fd-9a91-4d5b-aca9-7ea006bdf07d"
      },
      "execution_count": 13,
      "outputs": [
        {
          "output_type": "execute_result",
          "data": {
            "text/plain": [
              "              Missing Ratio\n",
              "PoolQC               99.691\n",
              "MiscFeature          96.400\n",
              "Alley                93.212\n",
              "Fence                80.425\n",
              "FireplaceQu          48.680\n",
              "LotFrontage          16.661\n",
              "GarageFinish          5.451\n",
              "GarageQual            5.451\n",
              "GarageCond            5.451\n",
              "GarageYrBlt           5.451\n",
              "GarageType            5.382\n",
              "BsmtExposure          2.811\n",
              "BsmtCond              2.811\n",
              "BsmtQual              2.777\n",
              "BsmtFinType2          2.743\n",
              "BsmtFinType1          2.708\n",
              "MasVnrType            0.823\n",
              "MasVnrArea            0.788\n",
              "MSZoning              0.137\n",
              "BsmtFullBath          0.069"
            ],
            "text/html": [
              "\n",
              "  <div id=\"df-9bf04132-d571-409a-85eb-ed21e6d1f45b\" class=\"colab-df-container\">\n",
              "    <div>\n",
              "<style scoped>\n",
              "    .dataframe tbody tr th:only-of-type {\n",
              "        vertical-align: middle;\n",
              "    }\n",
              "\n",
              "    .dataframe tbody tr th {\n",
              "        vertical-align: top;\n",
              "    }\n",
              "\n",
              "    .dataframe thead th {\n",
              "        text-align: right;\n",
              "    }\n",
              "</style>\n",
              "<table border=\"1\" class=\"dataframe\">\n",
              "  <thead>\n",
              "    <tr style=\"text-align: right;\">\n",
              "      <th></th>\n",
              "      <th>Missing Ratio</th>\n",
              "    </tr>\n",
              "  </thead>\n",
              "  <tbody>\n",
              "    <tr>\n",
              "      <th>PoolQC</th>\n",
              "      <td>99.691</td>\n",
              "    </tr>\n",
              "    <tr>\n",
              "      <th>MiscFeature</th>\n",
              "      <td>96.400</td>\n",
              "    </tr>\n",
              "    <tr>\n",
              "      <th>Alley</th>\n",
              "      <td>93.212</td>\n",
              "    </tr>\n",
              "    <tr>\n",
              "      <th>Fence</th>\n",
              "      <td>80.425</td>\n",
              "    </tr>\n",
              "    <tr>\n",
              "      <th>FireplaceQu</th>\n",
              "      <td>48.680</td>\n",
              "    </tr>\n",
              "    <tr>\n",
              "      <th>LotFrontage</th>\n",
              "      <td>16.661</td>\n",
              "    </tr>\n",
              "    <tr>\n",
              "      <th>GarageFinish</th>\n",
              "      <td>5.451</td>\n",
              "    </tr>\n",
              "    <tr>\n",
              "      <th>GarageQual</th>\n",
              "      <td>5.451</td>\n",
              "    </tr>\n",
              "    <tr>\n",
              "      <th>GarageCond</th>\n",
              "      <td>5.451</td>\n",
              "    </tr>\n",
              "    <tr>\n",
              "      <th>GarageYrBlt</th>\n",
              "      <td>5.451</td>\n",
              "    </tr>\n",
              "    <tr>\n",
              "      <th>GarageType</th>\n",
              "      <td>5.382</td>\n",
              "    </tr>\n",
              "    <tr>\n",
              "      <th>BsmtExposure</th>\n",
              "      <td>2.811</td>\n",
              "    </tr>\n",
              "    <tr>\n",
              "      <th>BsmtCond</th>\n",
              "      <td>2.811</td>\n",
              "    </tr>\n",
              "    <tr>\n",
              "      <th>BsmtQual</th>\n",
              "      <td>2.777</td>\n",
              "    </tr>\n",
              "    <tr>\n",
              "      <th>BsmtFinType2</th>\n",
              "      <td>2.743</td>\n",
              "    </tr>\n",
              "    <tr>\n",
              "      <th>BsmtFinType1</th>\n",
              "      <td>2.708</td>\n",
              "    </tr>\n",
              "    <tr>\n",
              "      <th>MasVnrType</th>\n",
              "      <td>0.823</td>\n",
              "    </tr>\n",
              "    <tr>\n",
              "      <th>MasVnrArea</th>\n",
              "      <td>0.788</td>\n",
              "    </tr>\n",
              "    <tr>\n",
              "      <th>MSZoning</th>\n",
              "      <td>0.137</td>\n",
              "    </tr>\n",
              "    <tr>\n",
              "      <th>BsmtFullBath</th>\n",
              "      <td>0.069</td>\n",
              "    </tr>\n",
              "  </tbody>\n",
              "</table>\n",
              "</div>\n",
              "    <div class=\"colab-df-buttons\">\n",
              "\n",
              "  <div class=\"colab-df-container\">\n",
              "    <button class=\"colab-df-convert\" onclick=\"convertToInteractive('df-9bf04132-d571-409a-85eb-ed21e6d1f45b')\"\n",
              "            title=\"Convert this dataframe to an interactive table.\"\n",
              "            style=\"display:none;\">\n",
              "\n",
              "  <svg xmlns=\"http://www.w3.org/2000/svg\" height=\"24px\" viewBox=\"0 -960 960 960\">\n",
              "    <path d=\"M120-120v-720h720v720H120Zm60-500h600v-160H180v160Zm220 220h160v-160H400v160Zm0 220h160v-160H400v160ZM180-400h160v-160H180v160Zm440 0h160v-160H620v160ZM180-180h160v-160H180v160Zm440 0h160v-160H620v160Z\"/>\n",
              "  </svg>\n",
              "    </button>\n",
              "\n",
              "  <style>\n",
              "    .colab-df-container {\n",
              "      display:flex;\n",
              "      gap: 12px;\n",
              "    }\n",
              "\n",
              "    .colab-df-convert {\n",
              "      background-color: #E8F0FE;\n",
              "      border: none;\n",
              "      border-radius: 50%;\n",
              "      cursor: pointer;\n",
              "      display: none;\n",
              "      fill: #1967D2;\n",
              "      height: 32px;\n",
              "      padding: 0 0 0 0;\n",
              "      width: 32px;\n",
              "    }\n",
              "\n",
              "    .colab-df-convert:hover {\n",
              "      background-color: #E2EBFA;\n",
              "      box-shadow: 0px 1px 2px rgba(60, 64, 67, 0.3), 0px 1px 3px 1px rgba(60, 64, 67, 0.15);\n",
              "      fill: #174EA6;\n",
              "    }\n",
              "\n",
              "    .colab-df-buttons div {\n",
              "      margin-bottom: 4px;\n",
              "    }\n",
              "\n",
              "    [theme=dark] .colab-df-convert {\n",
              "      background-color: #3B4455;\n",
              "      fill: #D2E3FC;\n",
              "    }\n",
              "\n",
              "    [theme=dark] .colab-df-convert:hover {\n",
              "      background-color: #434B5C;\n",
              "      box-shadow: 0px 1px 3px 1px rgba(0, 0, 0, 0.15);\n",
              "      filter: drop-shadow(0px 1px 2px rgba(0, 0, 0, 0.3));\n",
              "      fill: #FFFFFF;\n",
              "    }\n",
              "  </style>\n",
              "\n",
              "    <script>\n",
              "      const buttonEl =\n",
              "        document.querySelector('#df-9bf04132-d571-409a-85eb-ed21e6d1f45b button.colab-df-convert');\n",
              "      buttonEl.style.display =\n",
              "        google.colab.kernel.accessAllowed ? 'block' : 'none';\n",
              "\n",
              "      async function convertToInteractive(key) {\n",
              "        const element = document.querySelector('#df-9bf04132-d571-409a-85eb-ed21e6d1f45b');\n",
              "        const dataTable =\n",
              "          await google.colab.kernel.invokeFunction('convertToInteractive',\n",
              "                                                    [key], {});\n",
              "        if (!dataTable) return;\n",
              "\n",
              "        const docLinkHtml = 'Like what you see? Visit the ' +\n",
              "          '<a target=\"_blank\" href=https://colab.research.google.com/notebooks/data_table.ipynb>data table notebook</a>'\n",
              "          + ' to learn more about interactive tables.';\n",
              "        element.innerHTML = '';\n",
              "        dataTable['output_type'] = 'display_data';\n",
              "        await google.colab.output.renderOutput(dataTable, element);\n",
              "        const docLink = document.createElement('div');\n",
              "        docLink.innerHTML = docLinkHtml;\n",
              "        element.appendChild(docLink);\n",
              "      }\n",
              "    </script>\n",
              "  </div>\n",
              "\n",
              "\n",
              "<div id=\"df-ebdc0473-6b03-46e5-bf6a-4dac03abae79\">\n",
              "  <button class=\"colab-df-quickchart\" onclick=\"quickchart('df-ebdc0473-6b03-46e5-bf6a-4dac03abae79')\"\n",
              "            title=\"Suggest charts\"\n",
              "            style=\"display:none;\">\n",
              "\n",
              "<svg xmlns=\"http://www.w3.org/2000/svg\" height=\"24px\"viewBox=\"0 0 24 24\"\n",
              "     width=\"24px\">\n",
              "    <g>\n",
              "        <path d=\"M19 3H5c-1.1 0-2 .9-2 2v14c0 1.1.9 2 2 2h14c1.1 0 2-.9 2-2V5c0-1.1-.9-2-2-2zM9 17H7v-7h2v7zm4 0h-2V7h2v10zm4 0h-2v-4h2v4z\"/>\n",
              "    </g>\n",
              "</svg>\n",
              "  </button>\n",
              "\n",
              "<style>\n",
              "  .colab-df-quickchart {\n",
              "      --bg-color: #E8F0FE;\n",
              "      --fill-color: #1967D2;\n",
              "      --hover-bg-color: #E2EBFA;\n",
              "      --hover-fill-color: #174EA6;\n",
              "      --disabled-fill-color: #AAA;\n",
              "      --disabled-bg-color: #DDD;\n",
              "  }\n",
              "\n",
              "  [theme=dark] .colab-df-quickchart {\n",
              "      --bg-color: #3B4455;\n",
              "      --fill-color: #D2E3FC;\n",
              "      --hover-bg-color: #434B5C;\n",
              "      --hover-fill-color: #FFFFFF;\n",
              "      --disabled-bg-color: #3B4455;\n",
              "      --disabled-fill-color: #666;\n",
              "  }\n",
              "\n",
              "  .colab-df-quickchart {\n",
              "    background-color: var(--bg-color);\n",
              "    border: none;\n",
              "    border-radius: 50%;\n",
              "    cursor: pointer;\n",
              "    display: none;\n",
              "    fill: var(--fill-color);\n",
              "    height: 32px;\n",
              "    padding: 0;\n",
              "    width: 32px;\n",
              "  }\n",
              "\n",
              "  .colab-df-quickchart:hover {\n",
              "    background-color: var(--hover-bg-color);\n",
              "    box-shadow: 0 1px 2px rgba(60, 64, 67, 0.3), 0 1px 3px 1px rgba(60, 64, 67, 0.15);\n",
              "    fill: var(--button-hover-fill-color);\n",
              "  }\n",
              "\n",
              "  .colab-df-quickchart-complete:disabled,\n",
              "  .colab-df-quickchart-complete:disabled:hover {\n",
              "    background-color: var(--disabled-bg-color);\n",
              "    fill: var(--disabled-fill-color);\n",
              "    box-shadow: none;\n",
              "  }\n",
              "\n",
              "  .colab-df-spinner {\n",
              "    border: 2px solid var(--fill-color);\n",
              "    border-color: transparent;\n",
              "    border-bottom-color: var(--fill-color);\n",
              "    animation:\n",
              "      spin 1s steps(1) infinite;\n",
              "  }\n",
              "\n",
              "  @keyframes spin {\n",
              "    0% {\n",
              "      border-color: transparent;\n",
              "      border-bottom-color: var(--fill-color);\n",
              "      border-left-color: var(--fill-color);\n",
              "    }\n",
              "    20% {\n",
              "      border-color: transparent;\n",
              "      border-left-color: var(--fill-color);\n",
              "      border-top-color: var(--fill-color);\n",
              "    }\n",
              "    30% {\n",
              "      border-color: transparent;\n",
              "      border-left-color: var(--fill-color);\n",
              "      border-top-color: var(--fill-color);\n",
              "      border-right-color: var(--fill-color);\n",
              "    }\n",
              "    40% {\n",
              "      border-color: transparent;\n",
              "      border-right-color: var(--fill-color);\n",
              "      border-top-color: var(--fill-color);\n",
              "    }\n",
              "    60% {\n",
              "      border-color: transparent;\n",
              "      border-right-color: var(--fill-color);\n",
              "    }\n",
              "    80% {\n",
              "      border-color: transparent;\n",
              "      border-right-color: var(--fill-color);\n",
              "      border-bottom-color: var(--fill-color);\n",
              "    }\n",
              "    90% {\n",
              "      border-color: transparent;\n",
              "      border-bottom-color: var(--fill-color);\n",
              "    }\n",
              "  }\n",
              "</style>\n",
              "\n",
              "  <script>\n",
              "    async function quickchart(key) {\n",
              "      const quickchartButtonEl =\n",
              "        document.querySelector('#' + key + ' button');\n",
              "      quickchartButtonEl.disabled = true;  // To prevent multiple clicks.\n",
              "      quickchartButtonEl.classList.add('colab-df-spinner');\n",
              "      try {\n",
              "        const charts = await google.colab.kernel.invokeFunction(\n",
              "            'suggestCharts', [key], {});\n",
              "      } catch (error) {\n",
              "        console.error('Error during call to suggestCharts:', error);\n",
              "      }\n",
              "      quickchartButtonEl.classList.remove('colab-df-spinner');\n",
              "      quickchartButtonEl.classList.add('colab-df-quickchart-complete');\n",
              "    }\n",
              "    (() => {\n",
              "      let quickchartButtonEl =\n",
              "        document.querySelector('#df-ebdc0473-6b03-46e5-bf6a-4dac03abae79 button');\n",
              "      quickchartButtonEl.style.display =\n",
              "        google.colab.kernel.accessAllowed ? 'block' : 'none';\n",
              "    })();\n",
              "  </script>\n",
              "</div>\n",
              "\n",
              "    </div>\n",
              "  </div>\n"
            ],
            "application/vnd.google.colaboratory.intrinsic+json": {
              "type": "dataframe",
              "variable_name": "missing_data",
              "summary": "{\n  \"name\": \"missing_data\",\n  \"rows\": 30,\n  \"fields\": [\n    {\n      \"column\": \"Missing Ratio\",\n      \"properties\": {\n        \"dtype\": \"number\",\n        \"std\": 31.94561196067687,\n        \"min\": 0.03428179636612959,\n        \"max\": 99.69146383270483,\n        \"num_unique_values\": 17,\n        \"samples\": [\n          99.69146383270483,\n          96.4004113815564,\n          16.660953033938977\n        ],\n        \"semantic_type\": \"\",\n        \"description\": \"\"\n      }\n    }\n  ]\n}"
            }
          },
          "metadata": {},
          "execution_count": 13
        }
      ]
    },
    {
      "cell_type": "code",
      "source": [
        "f, ax = plt.subplots(figsize=(15,12))\n",
        "plt.xticks(rotation=90)\n",
        "sns.barplot(x=all_data_na.index, y=all_data_na)\n",
        "plt.xlabel('Features', fontsize=15)\n",
        "plt.ylabel('Percent of missing values', fontsize=15)\n",
        "plt.title('Percent missing data by feature', fontsize=15)"
      ],
      "metadata": {
        "colab": {
          "base_uri": "https://localhost:8080/",
          "height": 637
        },
        "id": "g21x1QeBW9V1",
        "outputId": "9eaf48b2-6580-4bb4-a222-7dc2b23b9415"
      },
      "execution_count": 14,
      "outputs": [
        {
          "output_type": "execute_result",
          "data": {
            "text/plain": [
              "Text(0.5, 1.0, 'Percent missing data by feature')"
            ]
          },
          "metadata": {},
          "execution_count": 14
        },
        {
          "output_type": "display_data",
          "data": {
            "text/plain": [
              "<Figure size 1500x1200 with 1 Axes>"
            ],
            "image/png": "[encoded data removed]"
          },
          "metadata": {}
        }
      ]
    },
    {
      "cell_type": "markdown",
      "source": [
        "####**Data Correlation**"
      ],
      "metadata": {
        "id": "jilOdXZlXpWC"
      }
    },
    {
      "cell_type": "code",
      "source": [
        "#Correlation map to see how features are correlated with SalePrice\n",
        "corrmat = train.corr()\n",
        "plt.subplots(figsize=(12,9))\n",
        "sns.heatmap(corrmat, vmax=0.9, square=True)"
      ],
      "metadata": {
        "colab": {
          "base_uri": "https://localhost:8080/",
          "height": 625
        },
        "id": "jT8Bj_IyXTWA",
        "outputId": "67547610-46fe-4bd8-8f04-fe22cbf8847e"
      },
      "execution_count": 15,
      "outputs": [
        {
          "output_type": "execute_result",
          "data": {
            "text/plain": [
              "<Axes: >"
            ]
          },
          "metadata": {},
          "execution_count": 15
        },
        {
          "output_type": "display_data",
          "data": {
            "text/plain": [
              "<Figure size 1200x900 with 2 Axes>"
            ],
            "image/png": "[encoded data removed]"
          },
          "metadata": {}
        }
      ]
    },
    {
      "cell_type": "markdown",
      "source": [
        "####**Imputing missing values**\n",
        "We impute them by proceeding sequentially through features with missing values"
      ],
      "metadata": {
        "id": "ViXUiGZUYGxa"
      }
    },
    {
      "cell_type": "markdown",
      "source": [
        "- **PoolQC**: data description says NA means \"No Pool\". That make sense, given the huge ratio of missing value (+99%) and majority of houses have no Pool at all in general. (여기서 NA는 수영장이 없다는 것을 의미하고 99%의 다수의 집이 수영장을 가지고 있지 않으므로 이 칼럼은 의미가 있다)  "
      ],
      "metadata": {
        "id": "-HYHAGVhYO9w"
      }
    },
    {
      "cell_type": "code",
      "source": [
        "all_data[\"PoolQC\"]=all_data[\"PoolQC\"].fillna(\"None\")"
      ],
      "metadata": {
        "id": "8kOMJQ5GYOXX"
      },
      "execution_count": 16,
      "outputs": []
    },
    {
      "cell_type": "markdown",
      "source": [
        "- **MiscFeature**: NA means \"no misc feature\""
      ],
      "metadata": {
        "id": "0m5y7oxmZSb9"
      }
    },
    {
      "cell_type": "code",
      "source": [
        "all_data[\"MiscFeature\"] = all_data[\"MiscFeature\"].fillna(\"None\")"
      ],
      "metadata": {
        "id": "84MGZc2yZRjk"
      },
      "execution_count": 17,
      "outputs": []
    },
    {
      "cell_type": "markdown",
      "source": [
        "- **Alley**: NA means \"no alley access\""
      ],
      "metadata": {
        "id": "LUmkHbgXZa7T"
      }
    },
    {
      "cell_type": "code",
      "source": [
        "all_data[\"Alley\"] = all_data[\"Alley\"].fillna(\"None\")"
      ],
      "metadata": {
        "id": "FDny2k1FZfdB"
      },
      "execution_count": 18,
      "outputs": []
    },
    {
      "cell_type": "markdown",
      "source": [
        "- **Fence**: NA means \"no fence\""
      ],
      "metadata": {
        "id": "P_tOSyxZZjDy"
      }
    },
    {
      "cell_type": "code",
      "source": [
        "all_data[\"Fence\"] = all_data[\"Fence\"].fillna(\"None\")"
      ],
      "metadata": {
        "id": "vOZmI_uTZiMV"
      },
      "execution_count": 19,
      "outputs": []
    },
    {
      "cell_type": "markdown",
      "source": [
        "- **FireplaceQu**: NA means \"no fireplace\""
      ],
      "metadata": {
        "id": "jfYzQ350ZqV_"
      }
    },
    {
      "cell_type": "code",
      "source": [
        "all_data[\"FireplaceQu\"] = all_data[\"FireplaceQu\"].fillna(\"None\")"
      ],
      "metadata": {
        "id": "EJ3J4ylEZqKg"
      },
      "execution_count": 20,
      "outputs": []
    },
    {
      "cell_type": "markdown",
      "source": [
        "- **LotFrontage(집에서 근처 지역 및 건물까지의 거리)**: Since the area of each street connected to the house property most likely have a similar area to other houses in its neighborhood , we can **fill in missing values by the median LotFrontage of the neighborhood.**"
      ],
      "metadata": {
        "id": "0Hsi7odOZwdj"
      }
    },
    {
      "cell_type": "code",
      "source": [
        "#Group by neighborhood and fill in missing value by the median LotFrontage of all the neighborhood\n",
        "all_data[\"LotFrontage\"] = all_data.groupby(\"Neighborhood\")[\"LotFrontage\"].transform(\n",
        "    lambda x: x.fillna(x.median()))"
      ],
      "metadata": {
        "id": "Lf6tGcrIadqN"
      },
      "execution_count": 21,
      "outputs": []
    },
    {
      "cell_type": "markdown",
      "source": [
        "- **GarageType, GarageFinish, GarageQual and GarageCond**: Replacing missing data with None"
      ],
      "metadata": {
        "id": "7rHV8rWnbOLG"
      }
    },
    {
      "cell_type": "code",
      "source": [
        "for col in ('GarageType', 'GarageFinish', 'GarageQual', 'GarageCond'):\n",
        "    all_data[col] = all_data[col].fillna('None')"
      ],
      "metadata": {
        "id": "y_SXVRzFbKw7"
      },
      "execution_count": 22,
      "outputs": []
    },
    {
      "cell_type": "markdown",
      "source": [
        "- **GarageYrBlt, GarageArea and GarageCars**: Replacing missing data with 0 (Since No garage = no cars in such garage.)"
      ],
      "metadata": {
        "id": "GmDU-wrebZdj"
      }
    },
    {
      "cell_type": "code",
      "source": [
        "for col in ('GarageYrBlt', 'GarageArea', 'GarageCars'):\n",
        "    all_data[col] = all_data[col].fillna(0)"
      ],
      "metadata": {
        "id": "4rUMw8qOboT7"
      },
      "execution_count": 23,
      "outputs": []
    },
    {
      "cell_type": "markdown",
      "source": [
        "- **BsmtFinSF1, BsmtFinSF2, BsmtUnfSF, TotalBsmtSF, BsmtFullBath and BsmtHalfBath**: missing values are likely zero for having no basement"
      ],
      "metadata": {
        "id": "psTX6E1hbqBA"
      }
    },
    {
      "cell_type": "code",
      "source": [
        "for col in ('BsmtFinSF1', 'BsmtFinSF2', 'BsmtUnfSF','TotalBsmtSF', 'BsmtFullBath', 'BsmtHalfBath'):\n",
        "    all_data[col] = all_data[col].fillna(0)"
      ],
      "metadata": {
        "id": "Eao1Lnl-bvYm"
      },
      "execution_count": 24,
      "outputs": []
    },
    {
      "cell_type": "markdown",
      "source": [
        "- **BsmtQual, BsmtCond, BsmtExposure, BsmtFinType1 and BsmtFinType2**: For all these categorical basement-related features, NaN means that there is no basement"
      ],
      "metadata": {
        "id": "SzM8dMbZbyMX"
      }
    },
    {
      "cell_type": "code",
      "source": [
        "for col in ('BsmtQual', 'BsmtCond', 'BsmtExposure', 'BsmtFinType1', 'BsmtFinType2'):\n",
        "    all_data[col] = all_data[col].fillna('None')"
      ],
      "metadata": {
        "id": "GIrg99Bbb4f2"
      },
      "execution_count": 25,
      "outputs": []
    },
    {
      "cell_type": "markdown",
      "source": [
        "- **MasVnrArea and MasVnrType** : NA most likely means no masonry veneer for these houses. We can fill 0 for the area and None for the type."
      ],
      "metadata": {
        "id": "ipVkpxpfeed8"
      }
    },
    {
      "cell_type": "code",
      "source": [
        "all_data[\"MasVnrType\"] = all_data[\"MasVnrType\"].fillna(\"None\")\n",
        "all_data[\"MasVnrArea\"] = all_data[\"MasVnrArea\"].fillna(0)"
      ],
      "metadata": {
        "id": "XTg2JPIWejnl"
      },
      "execution_count": 26,
      "outputs": []
    },
    {
      "cell_type": "markdown",
      "source": [
        "- **MSZoning (The general zoning classification)**: 'RL' is by far the most common value. So we can fill in missing values with 'RL'"
      ],
      "metadata": {
        "id": "hSsLc_glb6TX"
      }
    },
    {
      "cell_type": "code",
      "source": [
        "all_data['MSZoning'] = all_data['MSZoning'].fillna(all_data['MSZoning'].mode()[0])"
      ],
      "metadata": {
        "id": "XNnd2-pIcFhS"
      },
      "execution_count": 27,
      "outputs": []
    },
    {
      "cell_type": "markdown",
      "source": [
        "- **Utilities**: For this categorical feature all records are \"AllPub\", except for one \"NoSeWa\" and 2 NA . Since the house with 'NoSewa' is in the training set, this feature won't help in predictive modelling. We can then safely remove it.\n"
      ],
      "metadata": {
        "id": "480ZmjzwcJ6r"
      }
    },
    {
      "cell_type": "code",
      "source": [
        "all_data = all_data.drop(['Utilities'], axis=1)"
      ],
      "metadata": {
        "id": "RPeZPXercKKs"
      },
      "execution_count": 28,
      "outputs": []
    },
    {
      "cell_type": "markdown",
      "source": [
        "- **Functional** : NA means typical"
      ],
      "metadata": {
        "id": "446ZKKVvcXUe"
      }
    },
    {
      "cell_type": "code",
      "source": [
        "all_data[\"Functional\"] = all_data[\"Functional\"].fillna(\"Typ\")"
      ],
      "metadata": {
        "id": "SpMabUvccccO"
      },
      "execution_count": 29,
      "outputs": []
    },
    {
      "cell_type": "markdown",
      "source": [
        "- **Electrical** : It has one NA value. Since this feature has mostly 'SBrkr', we can set that for the missing value."
      ],
      "metadata": {
        "id": "cJVHPkX_cfev"
      }
    },
    {
      "cell_type": "code",
      "source": [
        "all_data['Electrical'] = all_data['Electrical'].fillna(all_data['Electrical'].mode()[0])\n",
        "# mode(): 최빈값이 인덱스 0에 출력됨"
      ],
      "metadata": {
        "id": "dwM5WjRscjfI"
      },
      "execution_count": 30,
      "outputs": []
    },
    {
      "cell_type": "markdown",
      "source": [
        "- **KitchenQual**: Only one NA value, and same as Electrical, we set 'TA' (which is the most frequent) for the missing value in KitchenQual."
      ],
      "metadata": {
        "id": "DgfdYRH9coKb"
      }
    },
    {
      "cell_type": "code",
      "source": [
        "all_data['KitchenQual'] = all_data['KitchenQual'].fillna(all_data['KitchenQual'].mode()[0])"
      ],
      "metadata": {
        "id": "fAzFQzUucrpx"
      },
      "execution_count": 31,
      "outputs": []
    },
    {
      "cell_type": "markdown",
      "source": [
        "- **Exterior1st and Exterior2nd** : Again Both Exterior 1 & 2 have only one missing value. We will just substitute in the most common string"
      ],
      "metadata": {
        "id": "Bn-Av2ssdWZC"
      }
    },
    {
      "cell_type": "code",
      "source": [
        "all_data['Exterior1st'] = all_data['Exterior1st'].fillna(all_data['Exterior1st'].mode()[0])\n",
        "all_data['Exterior2nd'] = all_data['Exterior2nd'].fillna(all_data['Exterior2nd'].mode()[0])"
      ],
      "metadata": {
        "id": "uNbsD_NsdWBq"
      },
      "execution_count": 32,
      "outputs": []
    },
    {
      "cell_type": "markdown",
      "source": [
        "- **SaleType** : Fill in again with most frequent which is \"WD\""
      ],
      "metadata": {
        "id": "JMPEtP5ldpIG"
      }
    },
    {
      "cell_type": "code",
      "source": [
        "all_data['SaleType'] = all_data['SaleType'].fillna(all_data['SaleType'].mode()[0])"
      ],
      "metadata": {
        "id": "URHw3tKddond"
      },
      "execution_count": 33,
      "outputs": []
    },
    {
      "cell_type": "markdown",
      "source": [
        "- **MSSubClass** : Na most likely means No building class. We can replace missing values with None"
      ],
      "metadata": {
        "id": "1lu2O0Gidwm5"
      }
    },
    {
      "cell_type": "code",
      "source": [
        "all_data['MSSubClass'] = all_data['MSSubClass'].fillna(\"None\")"
      ],
      "metadata": {
        "id": "8b2n1Y3RdwL-"
      },
      "execution_count": 34,
      "outputs": []
    },
    {
      "cell_type": "code",
      "source": [
        "#Check remaining missing valuew if any\n",
        "all_data_na = (all_data.isnull().sum() / len(all_data)) *100\n",
        "all_data_na = all_data_na.drop(all_data_na[all_data_na == 0].index).sort_values(ascending=False)\n",
        "missing_data = pd.DataFrame({'Missing Ratio': all_data_na})\n",
        "missing_data.head()\n",
        "#No missing!"
      ],
      "metadata": {
        "colab": {
          "base_uri": "https://localhost:8080/",
          "height": 53
        },
        "id": "O6djsT9ad3v7",
        "outputId": "493c4047-dba9-403e-9571-654e1b27a18b"
      },
      "execution_count": 35,
      "outputs": [
        {
          "output_type": "execute_result",
          "data": {
            "text/plain": [
              "Empty DataFrame\n",
              "Columns: [Missing Ratio]\n",
              "Index: []"
            ],
            "text/html": [
              "\n",
              "  <div id=\"df-fede844d-abd5-4c21-b000-533c1fce7279\" class=\"colab-df-container\">\n",
              "    <div>\n",
              "<style scoped>\n",
              "    .dataframe tbody tr th:only-of-type {\n",
              "        vertical-align: middle;\n",
              "    }\n",
              "\n",
              "    .dataframe tbody tr th {\n",
              "        vertical-align: top;\n",
              "    }\n",
              "\n",
              "    .dataframe thead th {\n",
              "        text-align: right;\n",
              "    }\n",
              "</style>\n",
              "<table border=\"1\" class=\"dataframe\">\n",
              "  <thead>\n",
              "    <tr style=\"text-align: right;\">\n",
              "      <th></th>\n",
              "      <th>Missing Ratio</th>\n",
              "    </tr>\n",
              "  </thead>\n",
              "  <tbody>\n",
              "  </tbody>\n",
              "</table>\n",
              "</div>\n",
              "    <div class=\"colab-df-buttons\">\n",
              "\n",
              "  <div class=\"colab-df-container\">\n",
              "    <button class=\"colab-df-convert\" onclick=\"convertToInteractive('df-fede844d-abd5-4c21-b000-533c1fce7279')\"\n",
              "            title=\"Convert this dataframe to an interactive table.\"\n",
              "            style=\"display:none;\">\n",
              "\n",
              "  <svg xmlns=\"http://www.w3.org/2000/svg\" height=\"24px\" viewBox=\"0 -960 960 960\">\n",
              "    <path d=\"M120-120v-720h720v720H120Zm60-500h600v-160H180v160Zm220 220h160v-160H400v160Zm0 220h160v-160H400v160ZM180-400h160v-160H180v160Zm440 0h160v-160H620v160ZM180-180h160v-160H180v160Zm440 0h160v-160H620v160Z\"/>\n",
              "  </svg>\n",
              "    </button>\n",
              "\n",
              "  <style>\n",
              "    .colab-df-container {\n",
              "      display:flex;\n",
              "      gap: 12px;\n",
              "    }\n",
              "\n",
              "    .colab-df-convert {\n",
              "      background-color: #E8F0FE;\n",
              "      border: none;\n",
              "      border-radius: 50%;\n",
              "      cursor: pointer;\n",
              "      display: none;\n",
              "      fill: #1967D2;\n",
              "      height: 32px;\n",
              "      padding: 0 0 0 0;\n",
              "      width: 32px;\n",
              "    }\n",
              "\n",
              "    .colab-df-convert:hover {\n",
              "      background-color: #E2EBFA;\n",
              "      box-shadow: 0px 1px 2px rgba(60, 64, 67, 0.3), 0px 1px 3px 1px rgba(60, 64, 67, 0.15);\n",
              "      fill: #174EA6;\n",
              "    }\n",
              "\n",
              "    .colab-df-buttons div {\n",
              "      margin-bottom: 4px;\n",
              "    }\n",
              "\n",
              "    [theme=dark] .colab-df-convert {\n",
              "      background-color: #3B4455;\n",
              "      fill: #D2E3FC;\n",
              "    }\n",
              "\n",
              "    [theme=dark] .colab-df-convert:hover {\n",
              "      background-color: #434B5C;\n",
              "      box-shadow: 0px 1px 3px 1px rgba(0, 0, 0, 0.15);\n",
              "      filter: drop-shadow(0px 1px 2px rgba(0, 0, 0, 0.3));\n",
              "      fill: #FFFFFF;\n",
              "    }\n",
              "  </style>\n",
              "\n",
              "    <script>\n",
              "      const buttonEl =\n",
              "        document.querySelector('#df-fede844d-abd5-4c21-b000-533c1fce7279 button.colab-df-convert');\n",
              "      buttonEl.style.display =\n",
              "        google.colab.kernel.accessAllowed ? 'block' : 'none';\n",
              "\n",
              "      async function convertToInteractive(key) {\n",
              "        const element = document.querySelector('#df-fede844d-abd5-4c21-b000-533c1fce7279');\n",
              "        const dataTable =\n",
              "          await google.colab.kernel.invokeFunction('convertToInteractive',\n",
              "                                                    [key], {});\n",
              "        if (!dataTable) return;\n",
              "\n",
              "        const docLinkHtml = 'Like what you see? Visit the ' +\n",
              "          '<a target=\"_blank\" href=https://colab.research.google.com/notebooks/data_table.ipynb>data table notebook</a>'\n",
              "          + ' to learn more about interactive tables.';\n",
              "        element.innerHTML = '';\n",
              "        dataTable['output_type'] = 'display_data';\n",
              "        await google.colab.output.renderOutput(dataTable, element);\n",
              "        const docLink = document.createElement('div');\n",
              "        docLink.innerHTML = docLinkHtml;\n",
              "        element.appendChild(docLink);\n",
              "      }\n",
              "    </script>\n",
              "  </div>\n",
              "\n",
              "\n",
              "    </div>\n",
              "  </div>\n"
            ],
            "application/vnd.google.colaboratory.intrinsic+json": {
              "type": "dataframe",
              "summary": "{\n  \"name\": \"#No missing!\",\n  \"rows\": 0,\n  \"fields\": [\n    {\n      \"column\": \"Missing Ratio\",\n      \"properties\": {\n        \"dtype\": \"number\",\n        \"std\": null,\n        \"min\": null,\n        \"max\": null,\n        \"num_unique_values\": 0,\n        \"samples\": [],\n        \"semantic_type\": \"\",\n        \"description\": \"\"\n      }\n    }\n  ]\n}"
            }
          },
          "metadata": {},
          "execution_count": 35
        }
      ]
    },
    {
      "cell_type": "markdown",
      "source": [
        "####**More features engeneering**"
      ],
      "metadata": {
        "id": "YovB4yh0ewVn"
      }
    },
    {
      "cell_type": "markdown",
      "source": [
        "#####**Transforming some numerical variables that are really categorical**"
      ],
      "metadata": {
        "id": "AnReNNIze8GI"
      }
    },
    {
      "cell_type": "code",
      "source": [
        "#MSSubClass = The building class\n",
        "all_data['MSSubClass'] = all_data['MSSubClass'].apply(str)\n",
        "\n",
        "#Changing OverallCond into a categorical variable\n",
        "all_data['OverallCond'] = all_data['OverallCond'].astype(str)\n",
        "\n",
        "#Year and month sold are transformed into categorical features.\n",
        "all_data['YrSold'] = all_data['YrSold'].astype(str)\n",
        "all_data['MoSold'] = all_data['MoSold'].astype(str)"
      ],
      "metadata": {
        "id": "BgHtAeAKeVqs"
      },
      "execution_count": 36,
      "outputs": []
    },
    {
      "cell_type": "markdown",
      "source": [
        "#####**Label Encoding some categorical variables that may contain information in their ordering set**"
      ],
      "metadata": {
        "id": "2FiN8Z3Vf1AE"
      }
    },
    {
      "cell_type": "code",
      "source": [
        "from sklearn.preprocessing import LabelEncoder\n",
        "cols = ('FireplaceQu', 'BsmtQual', 'BsmtCond', 'GarageQual', 'GarageCond',\n",
        "        'ExterQual', 'ExterCond','HeatingQC', 'PoolQC', 'KitchenQual', 'BsmtFinType1',\n",
        "        'BsmtFinType2', 'Functional', 'Fence', 'BsmtExposure', 'GarageFinish', 'LandSlope',\n",
        "        'LotShape', 'PavedDrive', 'Street', 'Alley', 'CentralAir', 'MSSubClass', 'OverallCond',\n",
        "        'YrSold', 'MoSold')\n",
        "#process columns, apply LabelEncoder to categorical features\n",
        "for c in cols:\n",
        "  lbl = LabelEncoder()\n",
        "  lbl.fit(list(all_data[c].values))\n",
        "  all_data[c]=lbl.transform(list(all_data[c].values))\n",
        "\n",
        "#shape\n",
        "print('Shape all_data:{}'.format(all_data.shape))"
      ],
      "metadata": {
        "colab": {
          "base_uri": "https://localhost:8080/"
        },
        "id": "s3o9Lkp3f4Ko",
        "outputId": "48be4506-a90b-4fab-adce-d311b882676f"
      },
      "execution_count": 37,
      "outputs": [
        {
          "output_type": "stream",
          "name": "stdout",
          "text": [
            "Shape all_data:(2917, 78)\n"
          ]
        }
      ]
    },
    {
      "cell_type": "markdown",
      "source": [
        "#####**Adding one more important feature**\n",
        "주택 가격을 결정짓는데는 집의 전체 면적도 중요하므로 지하, 1층, 2층 면적의 합을 전체 면적 'TotalSF'을 만들어줌."
      ],
      "metadata": {
        "id": "ji8HKqGKgtO6"
      }
    },
    {
      "cell_type": "code",
      "source": [
        "# Adding total sqfootage feature\n",
        "all_data['TotalSF'] = all_data['TotalBsmtSF'] + all_data['1stFlrSF'] + all_data['2ndFlrSF']"
      ],
      "metadata": {
        "id": "wEDkBsmegvzb"
      },
      "execution_count": 38,
      "outputs": []
    },
    {
      "cell_type": "markdown",
      "source": [
        "#####**Skewed features**"
      ],
      "metadata": {
        "id": "5seU5hCKhKTb"
      }
    },
    {
      "cell_type": "code",
      "source": [
        "numeric_feats = all_data.dtypes[all_data.dtypes != \"object\"].index\n",
        "\n",
        "#Check the skew of all numerical features\n",
        "skewed_feats = all_data[numeric_feats].apply(lambda x: skew(x.dropna())).sort_values(ascending=False)\n",
        "print(\"\\nSkew in numerical features: \\n\")\n",
        "skewness = pd.DataFrame({'Skew': skewed_feats})\n",
        "skewness.head(10)"
      ],
      "metadata": {
        "colab": {
          "base_uri": "https://localhost:8080/",
          "height": 419
        },
        "id": "kxdbeYY3hNxk",
        "outputId": "bf74ea8b-df43-4dd2-80b9-cd1e19320a5b"
      },
      "execution_count": 39,
      "outputs": [
        {
          "output_type": "stream",
          "name": "stdout",
          "text": [
            "\n",
            "Skew in numerical features: \n",
            "\n"
          ]
        },
        {
          "output_type": "execute_result",
          "data": {
            "text/plain": [
              "                Skew\n",
              "MiscVal       21.940\n",
              "PoolArea      17.689\n",
              "LotArea       13.109\n",
              "LowQualFinSF  12.085\n",
              "3SsnPorch     11.372\n",
              "LandSlope      4.973\n",
              "KitchenAbvGr   4.301\n",
              "BsmtFinSF2     4.145\n",
              "EnclosedPorch  4.002\n",
              "ScreenPorch    3.945"
            ],
            "text/html": [
              "\n",
              "  <div id=\"df-efb724df-efa5-41e4-9b90-3cc9ee9cf127\" class=\"colab-df-container\">\n",
              "    <div>\n",
              "<style scoped>\n",
              "    .dataframe tbody tr th:only-of-type {\n",
              "        vertical-align: middle;\n",
              "    }\n",
              "\n",
              "    .dataframe tbody tr th {\n",
              "        vertical-align: top;\n",
              "    }\n",
              "\n",
              "    .dataframe thead th {\n",
              "        text-align: right;\n",
              "    }\n",
              "</style>\n",
              "<table border=\"1\" class=\"dataframe\">\n",
              "  <thead>\n",
              "    <tr style=\"text-align: right;\">\n",
              "      <th></th>\n",
              "      <th>Skew</th>\n",
              "    </tr>\n",
              "  </thead>\n",
              "  <tbody>\n",
              "    <tr>\n",
              "      <th>MiscVal</th>\n",
              "      <td>21.940</td>\n",
              "    </tr>\n",
              "    <tr>\n",
              "      <th>PoolArea</th>\n",
              "      <td>17.689</td>\n",
              "    </tr>\n",
              "    <tr>\n",
              "      <th>LotArea</th>\n",
              "      <td>13.109</td>\n",
              "    </tr>\n",
              "    <tr>\n",
              "      <th>LowQualFinSF</th>\n",
              "      <td>12.085</td>\n",
              "    </tr>\n",
              "    <tr>\n",
              "      <th>3SsnPorch</th>\n",
              "      <td>11.372</td>\n",
              "    </tr>\n",
              "    <tr>\n",
              "      <th>LandSlope</th>\n",
              "      <td>4.973</td>\n",
              "    </tr>\n",
              "    <tr>\n",
              "      <th>KitchenAbvGr</th>\n",
              "      <td>4.301</td>\n",
              "    </tr>\n",
              "    <tr>\n",
              "      <th>BsmtFinSF2</th>\n",
              "      <td>4.145</td>\n",
              "    </tr>\n",
              "    <tr>\n",
              "      <th>EnclosedPorch</th>\n",
              "      <td>4.002</td>\n",
              "    </tr>\n",
              "    <tr>\n",
              "      <th>ScreenPorch</th>\n",
              "      <td>3.945</td>\n",
              "    </tr>\n",
              "  </tbody>\n",
              "</table>\n",
              "</div>\n",
              "    <div class=\"colab-df-buttons\">\n",
              "\n",
              "  <div class=\"colab-df-container\">\n",
              "    <button class=\"colab-df-convert\" onclick=\"convertToInteractive('df-efb724df-efa5-41e4-9b90-3cc9ee9cf127')\"\n",
              "            title=\"Convert this dataframe to an interactive table.\"\n",
              "            style=\"display:none;\">\n",
              "\n",
              "  <svg xmlns=\"http://www.w3.org/2000/svg\" height=\"24px\" viewBox=\"0 -960 960 960\">\n",
              "    <path d=\"M120-120v-720h720v720H120Zm60-500h600v-160H180v160Zm220 220h160v-160H400v160Zm0 220h160v-160H400v160ZM180-400h160v-160H180v160Zm440 0h160v-160H620v160ZM180-180h160v-160H180v160Zm440 0h160v-160H620v160Z\"/>\n",
              "  </svg>\n",
              "    </button>\n",
              "\n",
              "  <style>\n",
              "    .colab-df-container {\n",
              "      display:flex;\n",
              "      gap: 12px;\n",
              "    }\n",
              "\n",
              "    .colab-df-convert {\n",
              "      background-color: #E8F0FE;\n",
              "      border: none;\n",
              "      border-radius: 50%;\n",
              "      cursor: pointer;\n",
              "      display: none;\n",
              "      fill: #1967D2;\n",
              "      height: 32px;\n",
              "      padding: 0 0 0 0;\n",
              "      width: 32px;\n",
              "    }\n",
              "\n",
              "    .colab-df-convert:hover {\n",
              "      background-color: #E2EBFA;\n",
              "      box-shadow: 0px 1px 2px rgba(60, 64, 67, 0.3), 0px 1px 3px 1px rgba(60, 64, 67, 0.15);\n",
              "      fill: #174EA6;\n",
              "    }\n",
              "\n",
              "    .colab-df-buttons div {\n",
              "      margin-bottom: 4px;\n",
              "    }\n",
              "\n",
              "    [theme=dark] .colab-df-convert {\n",
              "      background-color: #3B4455;\n",
              "      fill: #D2E3FC;\n",
              "    }\n",
              "\n",
              "    [theme=dark] .colab-df-convert:hover {\n",
              "      background-color: #434B5C;\n",
              "      box-shadow: 0px 1px 3px 1px rgba(0, 0, 0, 0.15);\n",
              "      filter: drop-shadow(0px 1px 2px rgba(0, 0, 0, 0.3));\n",
              "      fill: #FFFFFF;\n",
              "    }\n",
              "  </style>\n",
              "\n",
              "    <script>\n",
              "      const buttonEl =\n",
              "        document.querySelector('#df-efb724df-efa5-41e4-9b90-3cc9ee9cf127 button.colab-df-convert');\n",
              "      buttonEl.style.display =\n",
              "        google.colab.kernel.accessAllowed ? 'block' : 'none';\n",
              "\n",
              "      async function convertToInteractive(key) {\n",
              "        const element = document.querySelector('#df-efb724df-efa5-41e4-9b90-3cc9ee9cf127');\n",
              "        const dataTable =\n",
              "          await google.colab.kernel.invokeFunction('convertToInteractive',\n",
              "                                                    [key], {});\n",
              "        if (!dataTable) return;\n",
              "\n",
              "        const docLinkHtml = 'Like what you see? Visit the ' +\n",
              "          '<a target=\"_blank\" href=https://colab.research.google.com/notebooks/data_table.ipynb>data table notebook</a>'\n",
              "          + ' to learn more about interactive tables.';\n",
              "        element.innerHTML = '';\n",
              "        dataTable['output_type'] = 'display_data';\n",
              "        await google.colab.output.renderOutput(dataTable, element);\n",
              "        const docLink = document.createElement('div');\n",
              "        docLink.innerHTML = docLinkHtml;\n",
              "        element.appendChild(docLink);\n",
              "      }\n",
              "    </script>\n",
              "  </div>\n",
              "\n",
              "\n",
              "<div id=\"df-62581107-185d-43f9-a7bd-039a65bb42e7\">\n",
              "  <button class=\"colab-df-quickchart\" onclick=\"quickchart('df-62581107-185d-43f9-a7bd-039a65bb42e7')\"\n",
              "            title=\"Suggest charts\"\n",
              "            style=\"display:none;\">\n",
              "\n",
              "<svg xmlns=\"http://www.w3.org/2000/svg\" height=\"24px\"viewBox=\"0 0 24 24\"\n",
              "     width=\"24px\">\n",
              "    <g>\n",
              "        <path d=\"M19 3H5c-1.1 0-2 .9-2 2v14c0 1.1.9 2 2 2h14c1.1 0 2-.9 2-2V5c0-1.1-.9-2-2-2zM9 17H7v-7h2v7zm4 0h-2V7h2v10zm4 0h-2v-4h2v4z\"/>\n",
              "    </g>\n",
              "</svg>\n",
              "  </button>\n",
              "\n",
              "<style>\n",
              "  .colab-df-quickchart {\n",
              "      --bg-color: #E8F0FE;\n",
              "      --fill-color: #1967D2;\n",
              "      --hover-bg-color: #E2EBFA;\n",
              "      --hover-fill-color: #174EA6;\n",
              "      --disabled-fill-color: #AAA;\n",
              "      --disabled-bg-color: #DDD;\n",
              "  }\n",
              "\n",
              "  [theme=dark] .colab-df-quickchart {\n",
              "      --bg-color: #3B4455;\n",
              "      --fill-color: #D2E3FC;\n",
              "      --hover-bg-color: #434B5C;\n",
              "      --hover-fill-color: #FFFFFF;\n",
              "      --disabled-bg-color: #3B4455;\n",
              "      --disabled-fill-color: #666;\n",
              "  }\n",
              "\n",
              "  .colab-df-quickchart {\n",
              "    background-color: var(--bg-color);\n",
              "    border: none;\n",
              "    border-radius: 50%;\n",
              "    cursor: pointer;\n",
              "    display: none;\n",
              "    fill: var(--fill-color);\n",
              "    height: 32px;\n",
              "    padding: 0;\n",
              "    width: 32px;\n",
              "  }\n",
              "\n",
              "  .colab-df-quickchart:hover {\n",
              "    background-color: var(--hover-bg-color);\n",
              "    box-shadow: 0 1px 2px rgba(60, 64, 67, 0.3), 0 1px 3px 1px rgba(60, 64, 67, 0.15);\n",
              "    fill: var(--button-hover-fill-color);\n",
              "  }\n",
              "\n",
              "  .colab-df-quickchart-complete:disabled,\n",
              "  .colab-df-quickchart-complete:disabled:hover {\n",
              "    background-color: var(--disabled-bg-color);\n",
              "    fill: var(--disabled-fill-color);\n",
              "    box-shadow: none;\n",
              "  }\n",
              "\n",
              "  .colab-df-spinner {\n",
              "    border: 2px solid var(--fill-color);\n",
              "    border-color: transparent;\n",
              "    border-bottom-color: var(--fill-color);\n",
              "    animation:\n",
              "      spin 1s steps(1) infinite;\n",
              "  }\n",
              "\n",
              "  @keyframes spin {\n",
              "    0% {\n",
              "      border-color: transparent;\n",
              "      border-bottom-color: var(--fill-color);\n",
              "      border-left-color: var(--fill-color);\n",
              "    }\n",
              "    20% {\n",
              "      border-color: transparent;\n",
              "      border-left-color: var(--fill-color);\n",
              "      border-top-color: var(--fill-color);\n",
              "    }\n",
              "    30% {\n",
              "      border-color: transparent;\n",
              "      border-left-color: var(--fill-color);\n",
              "      border-top-color: var(--fill-color);\n",
              "      border-right-color: var(--fill-color);\n",
              "    }\n",
              "    40% {\n",
              "      border-color: transparent;\n",
              "      border-right-color: var(--fill-color);\n",
              "      border-top-color: var(--fill-color);\n",
              "    }\n",
              "    60% {\n",
              "      border-color: transparent;\n",
              "      border-right-color: var(--fill-color);\n",
              "    }\n",
              "    80% {\n",
              "      border-color: transparent;\n",
              "      border-right-color: var(--fill-color);\n",
              "      border-bottom-color: var(--fill-color);\n",
              "    }\n",
              "    90% {\n",
              "      border-color: transparent;\n",
              "      border-bottom-color: var(--fill-color);\n",
              "    }\n",
              "  }\n",
              "</style>\n",
              "\n",
              "  <script>\n",
              "    async function quickchart(key) {\n",
              "      const quickchartButtonEl =\n",
              "        document.querySelector('#' + key + ' button');\n",
              "      quickchartButtonEl.disabled = true;  // To prevent multiple clicks.\n",
              "      quickchartButtonEl.classList.add('colab-df-spinner');\n",
              "      try {\n",
              "        const charts = await google.colab.kernel.invokeFunction(\n",
              "            'suggestCharts', [key], {});\n",
              "      } catch (error) {\n",
              "        console.error('Error during call to suggestCharts:', error);\n",
              "      }\n",
              "      quickchartButtonEl.classList.remove('colab-df-spinner');\n",
              "      quickchartButtonEl.classList.add('colab-df-quickchart-complete');\n",
              "    }\n",
              "    (() => {\n",
              "      let quickchartButtonEl =\n",
              "        document.querySelector('#df-62581107-185d-43f9-a7bd-039a65bb42e7 button');\n",
              "      quickchartButtonEl.style.display =\n",
              "        google.colab.kernel.accessAllowed ? 'block' : 'none';\n",
              "    })();\n",
              "  </script>\n",
              "</div>\n",
              "\n",
              "    </div>\n",
              "  </div>\n"
            ],
            "application/vnd.google.colaboratory.intrinsic+json": {
              "type": "dataframe",
              "variable_name": "skewness",
              "summary": "{\n  \"name\": \"skewness\",\n  \"rows\": 59,\n  \"fields\": [\n    {\n      \"column\": \"Skew\",\n      \"properties\": {\n        \"dtype\": \"number\",\n        \"std\": 6.079862376715606,\n        \"min\": -21.217599903984524,\n        \"max\": 21.939672170380096,\n        \"num_unique_values\": 59,\n        \"samples\": [\n          21.939672170380096,\n          4.973253614489942,\n          0.1319957613452532\n        ],\n        \"semantic_type\": \"\",\n        \"description\": \"\"\n      }\n    }\n  ]\n}"
            }
          },
          "metadata": {},
          "execution_count": 39
        }
      ]
    },
    {
      "cell_type": "markdown",
      "source": [
        "#####**Box Cox Transformation of (highly) skewed features**\n",
        "We use the scipy function boxcox1p which computes the Box-Cox transformation of  1+$x$  \n",
        "setting λ=0 is equivalent to log1p used above for the target variable.  \n",
        "- Box Cox Transformation: a statistical tool that transforms non-normal data into a normal distribution\n",
        " ."
      ],
      "metadata": {
        "id": "17xI3zkElYBO"
      }
    },
    {
      "cell_type": "code",
      "source": [
        "skewness = skewness[abs(skewness) > 0.75]\n",
        "print(\"There are {} skewed numerical features to Box Cox transform\".format(skewness.shape[0]))\n",
        "\n",
        "from scipy.special import boxcox1p\n",
        "skewed_features = skewness.index\n",
        "lam=0.15\n",
        "for feat in skewed_features:\n",
        "  #all_data[feat] += 1\n",
        "  all_data[feat] = boxcox1p(all_data[feat], lam)\n",
        "\n",
        "#all_data[skewed_features] = np.log1p(all_data[skewed_features])"
      ],
      "metadata": {
        "colab": {
          "base_uri": "https://localhost:8080/"
        },
        "id": "TLKN4jZtiDR2",
        "outputId": "6f0b050d-cee9-4ea7-b856-11dc081bcf9e"
      },
      "execution_count": 40,
      "outputs": [
        {
          "output_type": "stream",
          "name": "stdout",
          "text": [
            "There are 59 skewed numerical features to Box Cox transform\n"
          ]
        }
      ]
    },
    {
      "cell_type": "markdown",
      "source": [
        "#####**Getting dummy categorical features**"
      ],
      "metadata": {
        "id": "pNLtX9Q5mtU9"
      }
    },
    {
      "cell_type": "code",
      "source": [
        "all_data = pd.get_dummies(all_data)\n",
        "print(all_data.shape)"
      ],
      "metadata": {
        "colab": {
          "base_uri": "https://localhost:8080/"
        },
        "id": "PkNu672gmbSg",
        "outputId": "50f95138-7908-429a-91d7-088c150d00b4"
      },
      "execution_count": 41,
      "outputs": [
        {
          "output_type": "stream",
          "name": "stdout",
          "text": [
            "(2917, 220)\n"
          ]
        }
      ]
    },
    {
      "cell_type": "markdown",
      "source": [
        "Getting the new train and test sets."
      ],
      "metadata": {
        "id": "ed5asJp8nGc9"
      }
    },
    {
      "cell_type": "code",
      "source": [
        "train = all_data[:ntrain]\n",
        "test = all_data[ntrain:]"
      ],
      "metadata": {
        "id": "4zS9toxrnGQq"
      },
      "execution_count": 42,
      "outputs": []
    },
    {
      "cell_type": "markdown",
      "source": [
        "----------------------------\n",
        "##**Modelling**\n",
        "-----------------------------"
      ],
      "metadata": {
        "id": "hCtbHRDnnQQy"
      }
    },
    {
      "cell_type": "markdown",
      "source": [
        "#####**Import libraries**"
      ],
      "metadata": {
        "id": "3-uf0sEunZ--"
      }
    },
    {
      "cell_type": "code",
      "source": [
        "from sklearn.linear_model import ElasticNet, Lasso, BayesianRidge, LassoLarsIC\n",
        "from sklearn.ensemble import RandomForestRegressor, GradientBoostingRegressor\n",
        "from sklearn.kernel_ridge import KernelRidge\n",
        "from sklearn.pipeline import make_pipeline\n",
        "from sklearn.preprocessing import RobustScaler\n",
        "from sklearn.base import BaseEstimator, TransformerMixin, RegressorMixin, clone\n",
        "from sklearn.model_selection import KFold, cross_val_score, train_test_split\n",
        "from sklearn.metrics import mean_squared_error\n",
        "import xgboost as xgb\n",
        "import lightgbm as lgb"
      ],
      "metadata": {
        "id": "Vxc66hTFm8UW"
      },
      "execution_count": 43,
      "outputs": []
    },
    {
      "cell_type": "markdown",
      "source": [
        "##### **Define a cross validation strategy**\n",
        "cross_val_score함수 사용.    \n",
        "However this function has not a shuffle attribut, we add then one line of code, in order to shuffle the dataset prior to cross-validation -> KFold"
      ],
      "metadata": {
        "id": "fvzq0cUUokgc"
      }
    },
    {
      "cell_type": "code",
      "source": [
        "#Validation function\n",
        "n_folds = 5\n",
        "\n",
        "def rmsle_cv(model):\n",
        "    kf = KFold(n_folds, shuffle=True, random_state=42).get_n_splits(train.values)\n",
        "    rmse= np.sqrt(-cross_val_score(model, train.values, y_train, scoring=\"neg_mean_squared_error\", cv = kf))\n",
        "    return(rmse)"
      ],
      "metadata": {
        "id": "TkXaDqD9ojU6"
      },
      "execution_count": 44,
      "outputs": []
    },
    {
      "cell_type": "markdown",
      "source": [
        "###**Base models**"
      ],
      "metadata": {
        "id": "W69uKY514YpC"
      }
    },
    {
      "cell_type": "markdown",
      "source": [
        "#####**LASSO Regression:**\n",
        "This model may be very sensitive to outliers. So we need to made it more robust on them. For that we use the sklearn's Robustscaler() method on pipeline\n",
        "- robust on outliers: 아웃라이어의 영향의 많이 받지 않는..."
      ],
      "metadata": {
        "id": "7CDFCjgw4cTi"
      }
    },
    {
      "cell_type": "code",
      "source": [
        "lasso = make_pipeline(RobustScaler(), Lasso(alpha=0.0005, random_state=1))"
      ],
      "metadata": {
        "id": "HMfaMTP24Qlf"
      },
      "execution_count": 45,
      "outputs": []
    },
    {
      "cell_type": "markdown",
      "source": [
        "#####**Elastic Net Regression**\n",
        "made robust to ouliers"
      ],
      "metadata": {
        "id": "YCjEH7jK5YBW"
      }
    },
    {
      "cell_type": "code",
      "source": [
        "ENet = make_pipeline(RobustScaler(), ElasticNet(alpha=0.0005, l1_ratio=.9, random_state=3))"
      ],
      "metadata": {
        "id": "e63RTbhG5TT3"
      },
      "execution_count": 46,
      "outputs": []
    },
    {
      "cell_type": "markdown",
      "source": [
        "#####**Kernel Ridge Regression**\n",
        "예측변수와 결과 사이의 선형 및 비선형 관계를 모델링할 수 있는 비모수 회귀분석 모델"
      ],
      "metadata": {
        "id": "9wPW5wXw5tru"
      }
    },
    {
      "cell_type": "code",
      "source": [
        "KRR = KernelRidge(alpha=0.6, kernel='polynomial', degree=2, coef0=2.5)"
      ],
      "metadata": {
        "id": "VPCdkUhn5qFF"
      },
      "execution_count": 47,
      "outputs": []
    },
    {
      "cell_type": "markdown",
      "source": [
        "#####**Gradient Boosting Regression**\n",
        "With huber loss that makes it robust to outliers"
      ],
      "metadata": {
        "id": "8qfVDgd4Cy7l"
      }
    },
    {
      "cell_type": "code",
      "source": [
        "GBoost = GradientBoostingRegressor(n_estimators=3000, learning_rate=0.05, max_depth=4, max_features='sqrt',\n",
        "                                   min_samples_leaf=15, min_samples_split=10, loss='huber', random_state=5)"
      ],
      "metadata": {
        "id": "xGPVkq1MCxno"
      },
      "execution_count": 48,
      "outputs": []
    },
    {
      "cell_type": "markdown",
      "source": [
        "#####**XGBoost**"
      ],
      "metadata": {
        "id": "4r5GCm0KDTxk"
      }
    },
    {
      "cell_type": "code",
      "source": [
        "model_xgb = xgb.XGBRegressor(colsample_bytree=0.4603, gamma=0.0468, learning_rate=0.05, max_depth=3,\n",
        "                             min_child_weight=1.7817, n_estimators=2200, reg_alpha=0.4640,\n",
        "                             reg_lambda=0.8571, subsample=0.5213, silent=1, random_state=7, nthread=-1)"
      ],
      "metadata": {
        "id": "HdbIQB_JDSeG"
      },
      "execution_count": 49,
      "outputs": []
    },
    {
      "cell_type": "markdown",
      "source": [
        "#####**LightGBM**"
      ],
      "metadata": {
        "id": "WOwv4MHuDzn3"
      }
    },
    {
      "cell_type": "code",
      "source": [
        "model_lgb = lgb.LGBMRegressor(objective='regression', num_leaves=5, learning_rate=0.05, n_estimators=720,\n",
        "                              max_bin=55, baggin_fraction=0.8, bagging_req=5, feature_fraction=0.2319,\n",
        "                              feature_fraction_seed=9, bagging_seed=9, min_data_in_leaf=6, min_sum_hessian_in_leaf=11)"
      ],
      "metadata": {
        "id": "XB7TfR7EDyM8"
      },
      "execution_count": 50,
      "outputs": []
    },
    {
      "cell_type": "markdown",
      "source": [
        "####**Base models scores**\n",
        "Let's see how these base models perform on the data by evaluating the cross-validation **rmsle error**"
      ],
      "metadata": {
        "id": "3DSy8_3OEa6O"
      }
    },
    {
      "cell_type": "code",
      "source": [
        "score = rmsle_cv(lasso)\n",
        "print(\"Lasso score: {:.4f}({:.4f})\\n\".format(score.mean(), score.std()))"
      ],
      "metadata": {
        "colab": {
          "base_uri": "https://localhost:8080/"
        },
        "id": "Orxx_eCKEXex",
        "outputId": "1a4198c3-c790-4fc0-865c-afbf8eddb3df"
      },
      "execution_count": 51,
      "outputs": [
        {
          "output_type": "stream",
          "name": "stdout",
          "text": [
            "Lasso score: 0.1115(0.0074)\n",
            "\n"
          ]
        }
      ]
    },
    {
      "cell_type": "code",
      "source": [
        "score = rmsle_cv(ENet)\n",
        "print(\"ElasticNet score: {:.4f} ({:.4f})\\n\".format(score.mean(), score.std()))"
      ],
      "metadata": {
        "colab": {
          "base_uri": "https://localhost:8080/"
        },
        "id": "Vfd5qpqKE2Po",
        "outputId": "fa8a607a-500d-466a-ed14-2071ae7184c3"
      },
      "execution_count": 52,
      "outputs": [
        {
          "output_type": "stream",
          "name": "stdout",
          "text": [
            "ElasticNet score: 0.1116 (0.0074)\n",
            "\n"
          ]
        }
      ]
    },
    {
      "cell_type": "code",
      "source": [
        "score = rmsle_cv(KRR)\n",
        "print(\"Kernel Ridge score: {:.4f}({:.4f})\\n\".format(score.mean(), score.std()))"
      ],
      "metadata": {
        "colab": {
          "base_uri": "https://localhost:8080/"
        },
        "id": "ZDREEuSlFgsV",
        "outputId": "d702c7bc-3ade-4abe-fb33-dc7aae84b253"
      },
      "execution_count": 53,
      "outputs": [
        {
          "output_type": "stream",
          "name": "stdout",
          "text": [
            "Kernel Ridge score: 0.1153(0.0075)\n",
            "\n"
          ]
        }
      ]
    },
    {
      "cell_type": "code",
      "source": [
        "score = rmsle_cv(GBoost)\n",
        "print(\"Gradient Boosting score: {:.4f} ({:.4f})\\n\".format(score.mean(), score.std()))"
      ],
      "metadata": {
        "colab": {
          "base_uri": "https://localhost:8080/"
        },
        "id": "GG1c_SkoFuIG",
        "outputId": "d780d44a-5f99-48fe-c4bc-6675049b6887"
      },
      "execution_count": 54,
      "outputs": [
        {
          "output_type": "stream",
          "name": "stdout",
          "text": [
            "Gradient Boosting score: 0.1167 (0.0083)\n",
            "\n"
          ]
        }
      ]
    },
    {
      "cell_type": "code",
      "source": [
        "score = rmsle_cv(model_xgb)\n",
        "print(\"Xgboost score: {:.4f} ({:.4f})\\n\".format(score.mean(), score.std()))"
      ],
      "metadata": {
        "colab": {
          "base_uri": "https://localhost:8080/"
        },
        "id": "9eA_HgHkFurL",
        "outputId": "25bcb516-d6fb-4731-e4d2-157a81d526b0"
      },
      "execution_count": 55,
      "outputs": [
        {
          "output_type": "stream",
          "name": "stdout",
          "text": [
            "Xgboost score: 0.1162 (0.0078)\n",
            "\n"
          ]
        }
      ]
    },
    {
      "cell_type": "code",
      "source": [
        "score = rmsle_cv(model_lgb)\n",
        "print(\"LGBM score: {:.4f} ({:.4f})\\n\" .format(score.mean(), score.std()))"
      ],
      "metadata": {
        "colab": {
          "base_uri": "https://localhost:8080/"
        },
        "id": "uoV2NEWQF0uP",
        "outputId": "f09ce8c5-c725-4111-dd08-a1c7e18c0b6c"
      },
      "execution_count": 56,
      "outputs": [
        {
          "output_type": "stream",
          "name": "stdout",
          "text": [
            "[LightGBM] [Warning] Unknown parameter: bagging_req\n",
            "[LightGBM] [Warning] Unknown parameter: baggin_fraction\n",
            "[LightGBM] [Warning] min_data_in_leaf is set=6, min_child_samples=20 will be ignored. Current value: min_data_in_leaf=6\n",
            "[LightGBM] [Warning] feature_fraction is set=0.2319, colsample_bytree=1.0 will be ignored. Current value: feature_fraction=0.2319\n",
            "[LightGBM] [Warning] min_sum_hessian_in_leaf is set=11, min_child_weight=0.001 will be ignored. Current value: min_sum_hessian_in_leaf=11\n",
            "[LightGBM] [Warning] Unknown parameter: bagging_req\n",
            "[LightGBM] [Warning] Unknown parameter: baggin_fraction\n",
            "[LightGBM] [Warning] min_data_in_leaf is set=6, min_child_samples=20 will be ignored. Current value: min_data_in_leaf=6\n",
            "[LightGBM] [Warning] feature_fraction is set=0.2319, colsample_bytree=1.0 will be ignored. Current value: feature_fraction=0.2319\n",
            "[LightGBM] [Warning] min_sum_hessian_in_leaf is set=11, min_child_weight=0.001 will be ignored. Current value: min_sum_hessian_in_leaf=11\n",
            "[LightGBM] [Info] Auto-choosing row-wise multi-threading, the overhead of testing was 0.001118 seconds.\n",
            "You can set `force_row_wise=true` to remove the overhead.\n",
            "And if memory is not enough, you can set `force_col_wise=true`.\n",
            "[LightGBM] [Info] Total Bins 1441\n",
            "[LightGBM] [Info] Number of data points in the train set: 1166, number of used features: 173\n",
            "[LightGBM] [Info] Start training from score 12.021352\n",
            "[LightGBM] [Warning] Unknown parameter: bagging_req\n",
            "[LightGBM] [Warning] Unknown parameter: baggin_fraction\n",
            "[LightGBM] [Warning] min_sum_hessian_in_leaf is set=11, min_child_weight=0.001 will be ignored. Current value: min_sum_hessian_in_leaf=11\n",
            "[LightGBM] [Warning] min_data_in_leaf is set=6, min_child_samples=20 will be ignored. Current value: min_data_in_leaf=6\n",
            "[LightGBM] [Warning] feature_fraction is set=0.2319, colsample_bytree=1.0 will be ignored. Current value: feature_fraction=0.2319\n",
            "[LightGBM] [Warning] Unknown parameter: bagging_req\n",
            "[LightGBM] [Warning] Unknown parameter: baggin_fraction\n",
            "[LightGBM] [Warning] min_data_in_leaf is set=6, min_child_samples=20 will be ignored. Current value: min_data_in_leaf=6\n",
            "[LightGBM] [Warning] feature_fraction is set=0.2319, colsample_bytree=1.0 will be ignored. Current value: feature_fraction=0.2319\n",
            "[LightGBM] [Warning] min_sum_hessian_in_leaf is set=11, min_child_weight=0.001 will be ignored. Current value: min_sum_hessian_in_leaf=11\n",
            "[LightGBM] [Warning] Unknown parameter: bagging_req\n",
            "[LightGBM] [Warning] Unknown parameter: baggin_fraction\n",
            "[LightGBM] [Warning] min_data_in_leaf is set=6, min_child_samples=20 will be ignored. Current value: min_data_in_leaf=6\n",
            "[LightGBM] [Warning] feature_fraction is set=0.2319, colsample_bytree=1.0 will be ignored. Current value: feature_fraction=0.2319\n",
            "[LightGBM] [Warning] min_sum_hessian_in_leaf is set=11, min_child_weight=0.001 will be ignored. Current value: min_sum_hessian_in_leaf=11\n",
            "[LightGBM] [Info] Auto-choosing row-wise multi-threading, the overhead of testing was 0.001007 seconds.\n",
            "You can set `force_row_wise=true` to remove the overhead.\n",
            "And if memory is not enough, you can set `force_col_wise=true`.\n",
            "[LightGBM] [Info] Total Bins 1453\n",
            "[LightGBM] [Info] Number of data points in the train set: 1166, number of used features: 175\n",
            "[LightGBM] [Info] Start training from score 12.023516\n",
            "[LightGBM] [Warning] Unknown parameter: bagging_req\n",
            "[LightGBM] [Warning] Unknown parameter: baggin_fraction\n",
            "[LightGBM] [Warning] min_sum_hessian_in_leaf is set=11, min_child_weight=0.001 will be ignored. Current value: min_sum_hessian_in_leaf=11\n",
            "[LightGBM] [Warning] min_data_in_leaf is set=6, min_child_samples=20 will be ignored. Current value: min_data_in_leaf=6\n",
            "[LightGBM] [Warning] feature_fraction is set=0.2319, colsample_bytree=1.0 will be ignored. Current value: feature_fraction=0.2319\n",
            "[LightGBM] [Warning] Unknown parameter: bagging_req\n",
            "[LightGBM] [Warning] Unknown parameter: baggin_fraction\n",
            "[LightGBM] [Warning] min_data_in_leaf is set=6, min_child_samples=20 will be ignored. Current value: min_data_in_leaf=6\n",
            "[LightGBM] [Warning] feature_fraction is set=0.2319, colsample_bytree=1.0 will be ignored. Current value: feature_fraction=0.2319\n",
            "[LightGBM] [Warning] min_sum_hessian_in_leaf is set=11, min_child_weight=0.001 will be ignored. Current value: min_sum_hessian_in_leaf=11\n",
            "[LightGBM] [Warning] Unknown parameter: bagging_req\n",
            "[LightGBM] [Warning] Unknown parameter: baggin_fraction\n",
            "[LightGBM] [Warning] min_data_in_leaf is set=6, min_child_samples=20 will be ignored. Current value: min_data_in_leaf=6\n",
            "[LightGBM] [Warning] feature_fraction is set=0.2319, colsample_bytree=1.0 will be ignored. Current value: feature_fraction=0.2319\n",
            "[LightGBM] [Warning] min_sum_hessian_in_leaf is set=11, min_child_weight=0.001 will be ignored. Current value: min_sum_hessian_in_leaf=11\n",
            "[LightGBM] [Info] Auto-choosing row-wise multi-threading, the overhead of testing was 0.001291 seconds.\n",
            "You can set `force_row_wise=true` to remove the overhead.\n",
            "And if memory is not enough, you can set `force_col_wise=true`.\n",
            "[LightGBM] [Info] Total Bins 1442\n",
            "[LightGBM] [Info] Number of data points in the train set: 1166, number of used features: 173\n",
            "[LightGBM] [Info] Start training from score 12.020683\n",
            "[LightGBM] [Warning] Unknown parameter: bagging_req\n",
            "[LightGBM] [Warning] Unknown parameter: baggin_fraction\n",
            "[LightGBM] [Warning] min_sum_hessian_in_leaf is set=11, min_child_weight=0.001 will be ignored. Current value: min_sum_hessian_in_leaf=11\n",
            "[LightGBM] [Warning] min_data_in_leaf is set=6, min_child_samples=20 will be ignored. Current value: min_data_in_leaf=6\n",
            "[LightGBM] [Warning] feature_fraction is set=0.2319, colsample_bytree=1.0 will be ignored. Current value: feature_fraction=0.2319\n",
            "[LightGBM] [Warning] Unknown parameter: bagging_req\n",
            "[LightGBM] [Warning] Unknown parameter: baggin_fraction\n",
            "[LightGBM] [Warning] min_data_in_leaf is set=6, min_child_samples=20 will be ignored. Current value: min_data_in_leaf=6\n",
            "[LightGBM] [Warning] feature_fraction is set=0.2319, colsample_bytree=1.0 will be ignored. Current value: feature_fraction=0.2319\n",
            "[LightGBM] [Warning] min_sum_hessian_in_leaf is set=11, min_child_weight=0.001 will be ignored. Current value: min_sum_hessian_in_leaf=11\n",
            "[LightGBM] [Warning] Unknown parameter: bagging_req\n",
            "[LightGBM] [Warning] Unknown parameter: baggin_fraction\n",
            "[LightGBM] [Warning] min_data_in_leaf is set=6, min_child_samples=20 will be ignored. Current value: min_data_in_leaf=6\n",
            "[LightGBM] [Warning] feature_fraction is set=0.2319, colsample_bytree=1.0 will be ignored. Current value: feature_fraction=0.2319\n",
            "[LightGBM] [Warning] min_sum_hessian_in_leaf is set=11, min_child_weight=0.001 will be ignored. Current value: min_sum_hessian_in_leaf=11\n",
            "[LightGBM] [Info] Auto-choosing row-wise multi-threading, the overhead of testing was 0.001319 seconds.\n",
            "You can set `force_row_wise=true` to remove the overhead.\n",
            "And if memory is not enough, you can set `force_col_wise=true`.\n",
            "[LightGBM] [Info] Total Bins 1455\n",
            "[LightGBM] [Info] Number of data points in the train set: 1167, number of used features: 174\n",
            "[LightGBM] [Info] Start training from score 12.032713\n",
            "[LightGBM] [Warning] Unknown parameter: bagging_req\n",
            "[LightGBM] [Warning] Unknown parameter: baggin_fraction\n",
            "[LightGBM] [Warning] min_sum_hessian_in_leaf is set=11, min_child_weight=0.001 will be ignored. Current value: min_sum_hessian_in_leaf=11\n",
            "[LightGBM] [Warning] min_data_in_leaf is set=6, min_child_samples=20 will be ignored. Current value: min_data_in_leaf=6\n",
            "[LightGBM] [Warning] feature_fraction is set=0.2319, colsample_bytree=1.0 will be ignored. Current value: feature_fraction=0.2319\n",
            "[LightGBM] [Warning] Unknown parameter: bagging_req\n",
            "[LightGBM] [Warning] Unknown parameter: baggin_fraction\n",
            "[LightGBM] [Warning] min_data_in_leaf is set=6, min_child_samples=20 will be ignored. Current value: min_data_in_leaf=6\n",
            "[LightGBM] [Warning] feature_fraction is set=0.2319, colsample_bytree=1.0 will be ignored. Current value: feature_fraction=0.2319\n",
            "[LightGBM] [Warning] min_sum_hessian_in_leaf is set=11, min_child_weight=0.001 will be ignored. Current value: min_sum_hessian_in_leaf=11\n",
            "[LightGBM] [Warning] Unknown parameter: bagging_req\n",
            "[LightGBM] [Warning] Unknown parameter: baggin_fraction\n",
            "[LightGBM] [Warning] min_data_in_leaf is set=6, min_child_samples=20 will be ignored. Current value: min_data_in_leaf=6\n",
            "[LightGBM] [Warning] feature_fraction is set=0.2319, colsample_bytree=1.0 will be ignored. Current value: feature_fraction=0.2319\n",
            "[LightGBM] [Warning] min_sum_hessian_in_leaf is set=11, min_child_weight=0.001 will be ignored. Current value: min_sum_hessian_in_leaf=11\n",
            "[LightGBM] [Info] Auto-choosing row-wise multi-threading, the overhead of testing was 0.001738 seconds.\n",
            "You can set `force_row_wise=true` to remove the overhead.\n",
            "And if memory is not enough, you can set `force_col_wise=true`.\n",
            "[LightGBM] [Info] Total Bins 1449\n",
            "[LightGBM] [Info] Number of data points in the train set: 1167, number of used features: 175\n",
            "[LightGBM] [Info] Start training from score 12.021807\n",
            "[LightGBM] [Warning] Unknown parameter: bagging_req\n",
            "[LightGBM] [Warning] Unknown parameter: baggin_fraction\n",
            "[LightGBM] [Warning] min_sum_hessian_in_leaf is set=11, min_child_weight=0.001 will be ignored. Current value: min_sum_hessian_in_leaf=11\n",
            "[LightGBM] [Warning] min_data_in_leaf is set=6, min_child_samples=20 will be ignored. Current value: min_data_in_leaf=6\n",
            "[LightGBM] [Warning] feature_fraction is set=0.2319, colsample_bytree=1.0 will be ignored. Current value: feature_fraction=0.2319\n",
            "LGBM score: 0.1162 (0.0064)\n",
            "\n"
          ]
        }
      ]
    },
    {
      "cell_type": "markdown",
      "source": [
        "###**Stacking models:**\n",
        "####**Simplest Stacking approach: Averageing base models**\n",
        "We begin with this simple approach of averaging base models. We build a new class to extend scikit-learn with our model and also to laverage encapsulation and code reuse\n",
        "- encapsulation(캡슐화): 클래스 안에 서로 연관있는 속성과 기능들을 하나의 캡슐(capsule)로 만들어 데이터를 외부로부터 보호하는 것을 말함."
      ],
      "metadata": {
        "id": "4LCSKc5ZF5dS"
      }
    },
    {
      "cell_type": "markdown",
      "source": [
        "##### **Averaged base models class**\n",
        "\n"
      ],
      "metadata": {
        "id": "boK2QNySNBrH"
      }
    },
    {
      "cell_type": "code",
      "source": [
        "class AveragingModels(BaseEstimator, RegressorMixin, TransformerMixin):\n",
        "  def __init__(self, models):\n",
        "    self.models = models\n",
        "\n",
        "  #we define clones of the original models to fit the data in\n",
        "  def fit(self, X, y):\n",
        "    self.models_ = [clone(x) for x in self.models]\n",
        "\n",
        "    #Train cloned base models\n",
        "    for model in self.models_:\n",
        "      model.fit(X,y)\n",
        "\n",
        "    return self\n",
        "\n",
        "  #Now we do the predictions for cloned models and average them\n",
        "  def predict(self, X):\n",
        "    predictions = np.column_stack([\n",
        "        model.predict(X) for model in self.models_\n",
        "    ])\n",
        "    return np.mean(predictions, axis=1)"
      ],
      "metadata": {
        "id": "KF4bVG3OGWUz"
      },
      "execution_count": 57,
      "outputs": []
    },
    {
      "cell_type": "markdown",
      "source": [
        "#####**Averaged base models score**\n",
        "We just average four models here ENet, GBoost, KRR and lasso. Of course we could easily add more models in the mix."
      ],
      "metadata": {
        "id": "JmwQGveXOiiL"
      }
    },
    {
      "cell_type": "code",
      "source": [
        "averaged_models = AveragingModels(models = (ENet, GBoost, KRR, lasso))\n",
        "\n",
        "score = rmsle_cv(averaged_models)\n",
        "print(\"Averaged base models socre: {:.4f}({:.4f})\\n\".format(score.mean(), score.std()))"
      ],
      "metadata": {
        "colab": {
          "base_uri": "https://localhost:8080/"
        },
        "id": "ja3-2x--OWBk",
        "outputId": "10ca2100-31d0-4d52-de37-8d3b62868166"
      },
      "execution_count": 58,
      "outputs": [
        {
          "output_type": "stream",
          "name": "stdout",
          "text": [
            "Averaged base models socre: 0.1087(0.0077)\n",
            "\n"
          ]
        }
      ]
    },
    {
      "cell_type": "markdown",
      "source": [
        "####**Less simple Stacking : Adding a Meta-model**\n",
        "- averaged base models에 meta model을 추가함. base model의 out-of-folds 예측을 사용하여 메타 모델을 교육함.\n",
        "- 훈련 절차   \n",
        " 1. 전체 train을 두 개의 세트로 나눔(train 및 holdout)\n",
        " 2. 첫 번째 train에서 여러 개의 base model 훈련\n",
        " 3. 두 번째 holdout에서 같은 base model 테스트\n",
        " 4. 더 높은 수준의 meta-model(학습자)을 훈련시키기 위해 out-of-folds 예측을 inputs으로 사용하여 target variable 출력함.\n",
        "- step1~3은 반복적으로 수행됨.   \n",
        "예> 5-fold stacking  \n",
        "  1. train 데이터를 5 folds로 나눔\n",
        "  2. 5번의 반복 수행. 각 반복에서 모든 base model을 4개 folds에서 훈련하고, 나머지 하나의 holdout folds를 예측함.\n",
        "  3. 5번의 반복 후 전체 데이터를 사용하여 4단계에서 meta-model을 훈련하기 위한 new feature을 사용할 out-of-folds를 얻을 수 있음.\n",
        "- 예측 부분에서는 test 데이터에 대한 모든 base model의 예측을 평균화하여 이를 meta-model로 최종 예측하는 feature로 사용함."
      ],
      "metadata": {
        "id": "eDpM-rPyRjkV"
      }
    },
    {
      "cell_type": "markdown",
      "source": [
        "![image.png](data:image/png;base64,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)"
      ],
      "metadata": {
        "id": "WlRMIRK3Xbe6"
      }
    },
    {
      "cell_type": "markdown",
      "source": [
        "#####**Stacking averaged Models Class**\n",
        "\n"
      ],
      "metadata": {
        "id": "WGj9s1AvXeam"
      }
    },
    {
      "cell_type": "code",
      "source": [
        "class StackingAveragedModels(BaseEstimator, RegressorMixin, TransformerMixin):\n",
        "    def __init__(self, base_models, meta_model, n_folds=5):\n",
        "        self.base_models = base_models\n",
        "        self.meta_model = meta_model\n",
        "        self.n_folds = n_folds\n",
        "\n",
        "    # We again fit the data on clones of the original models\n",
        "    def fit(self, X, y):\n",
        "        self.base_models_ = [list() for x in self.base_models]\n",
        "        self.meta_model_ = clone(self.meta_model)\n",
        "        kfold = KFold(n_splits=self.n_folds, shuffle=True, random_state=156)\n",
        "\n",
        "        # Train cloned base models then create out-of-fold predictions\n",
        "        # that are needed to train the cloned meta-model\n",
        "        out_of_fold_predictions = np.zeros((X.shape[0], len(self.base_models)))\n",
        "        for i, model in enumerate(self.base_models):\n",
        "            for train_index, holdout_index in kfold.split(X, y):\n",
        "                instance = clone(model)\n",
        "                self.base_models_[i].append(instance)\n",
        "                instance.fit(X[train_index], y[train_index])\n",
        "                y_pred = instance.predict(X[holdout_index])\n",
        "                out_of_fold_predictions[holdout_index, i] = y_pred\n",
        "\n",
        "        # Now train the cloned  meta-model using the out-of-fold predictions as new feature\n",
        "        self.meta_model_.fit(out_of_fold_predictions, y)\n",
        "        return self\n",
        "\n",
        "    #Do the predictions of all base models on the test data and use the averaged predictions as\n",
        "    #meta-features for the final prediction which is done by the meta-model\n",
        "    def predict(self, X):\n",
        "        meta_features = np.column_stack([\n",
        "            np.column_stack([model.predict(X) for model in base_models]).mean(axis=1)\n",
        "            for base_models in self.base_models_ ])\n",
        "        return self.meta_model_.predict(meta_features)"
      ],
      "metadata": {
        "id": "OzZHCWTKRaj4"
      },
      "execution_count": 59,
      "outputs": []
    },
    {
      "cell_type": "markdown",
      "source": [
        "#####**Stacking Averaged models Score**\n",
        "To make the two approaches comparable (by using the same number of models) , we just average Enet KRR and Gboost, then we add lasso as meta-model."
      ],
      "metadata": {
        "id": "lYPx6n7Yapy8"
      }
    },
    {
      "cell_type": "code",
      "source": [
        "stacked_averaged_models = StackingAveragedModels(base_models = (ENet, GBoost, KRR), meta_model=lasso)\n",
        "\n",
        "score = rmsle_cv(stacked_averaged_models)\n",
        "print(\"Stacking Averaged models score: {:.4f} ({:.4f})\".format(score.mean(), score.std()))"
      ],
      "metadata": {
        "colab": {
          "base_uri": "https://localhost:8080/"
        },
        "id": "jPAtJVswaPdE",
        "outputId": "39ecdf1c-bc67-43e6-b396-f3a4222aafaa"
      },
      "execution_count": 60,
      "outputs": [
        {
          "output_type": "stream",
          "name": "stdout",
          "text": [
            "Stacking Averaged models score: 0.1081 (0.0073)\n"
          ]
        }
      ]
    },
    {
      "cell_type": "markdown",
      "source": [
        "###**Ensembling StackedRegressor, XGBoost and LightGBM**\n",
        "We add XGBoost and LightGBM to the StackedRegressor defined previously.\n",
        "\n",
        "We first define a rmsle evaluation function"
      ],
      "metadata": {
        "id": "sqhAPHlIcO12"
      }
    },
    {
      "cell_type": "code",
      "source": [
        "def rmsle(y,y_pred):\n",
        "  return np.sqrt(mean_squared_error(y,y_pred))"
      ],
      "metadata": {
        "id": "aCQTnq5jcWXq"
      },
      "execution_count": 61,
      "outputs": []
    },
    {
      "cell_type": "markdown",
      "source": [
        "####**Final Training and Prediction**"
      ],
      "metadata": {
        "id": "5GsHOH4vcdBr"
      }
    },
    {
      "cell_type": "markdown",
      "source": [
        "#####**StackedRegressor**"
      ],
      "metadata": {
        "id": "ua323Uk6cgoV"
      }
    },
    {
      "cell_type": "code",
      "source": [
        "stacked_averaged_models.fit(train.values, y_train)\n",
        "stacked_train_pred = stacked_averaged_models.predict(train.values)\n",
        "stacked_pred = np.expm1(stacked_averaged_models.predict(test.values))\n",
        "print(rmsle(y_train, stacked_train_pred))"
      ],
      "metadata": {
        "colab": {
          "base_uri": "https://localhost:8080/"
        },
        "id": "wMLGTT_nccSa",
        "outputId": "9fef0610-3d05-421a-baed-8fb9f1346f0c"
      },
      "execution_count": 62,
      "outputs": [
        {
          "output_type": "stream",
          "name": "stdout",
          "text": [
            "0.07839506096665937\n"
          ]
        }
      ]
    },
    {
      "cell_type": "markdown",
      "source": [
        "#####**XGBoost**"
      ],
      "metadata": {
        "id": "lpZuJgq4c6RT"
      }
    },
    {
      "cell_type": "code",
      "source": [
        "model_xgb.fit(train, y_train)\n",
        "xgb_train_pred = model_xgb.predict(train)\n",
        "xgb_pred = np.expm1(model_xgb.predict(test))\n",
        "print(rmsle(y_train, xgb_train_pred))"
      ],
      "metadata": {
        "colab": {
          "base_uri": "https://localhost:8080/"
        },
        "id": "DR2la3ZAc2ZY",
        "outputId": "e903dcc0-78fd-4a27-bcfc-432290ca56fc"
      },
      "execution_count": 63,
      "outputs": [
        {
          "output_type": "stream",
          "name": "stdout",
          "text": [
            "0.08632034929442625\n"
          ]
        }
      ]
    },
    {
      "cell_type": "markdown",
      "source": [
        "#####**LightGBM**"
      ],
      "metadata": {
        "id": "4aDhkkG1dKML"
      }
    },
    {
      "cell_type": "code",
      "source": [
        "model_lgb.fit(train, y_train)\n",
        "lgb_train_pred = model_lgb.predict(train)\n",
        "lgb_pred = np.expm1(model_lgb.predict(test.values))\n",
        "print(rmsle(y_train, lgb_train_pred))"
      ],
      "metadata": {
        "colab": {
          "base_uri": "https://localhost:8080/"
        },
        "id": "muAYPPdJdJVL",
        "outputId": "a617598d-d806-4e51-80d9-3ab96b8a476e"
      },
      "execution_count": 64,
      "outputs": [
        {
          "output_type": "stream",
          "name": "stdout",
          "text": [
            "[LightGBM] [Warning] Unknown parameter: bagging_req\n",
            "[LightGBM] [Warning] Unknown parameter: baggin_fraction\n",
            "[LightGBM] [Warning] min_data_in_leaf is set=6, min_child_samples=20 will be ignored. Current value: min_data_in_leaf=6\n",
            "[LightGBM] [Warning] feature_fraction is set=0.2319, colsample_bytree=1.0 will be ignored. Current value: feature_fraction=0.2319\n",
            "[LightGBM] [Warning] min_sum_hessian_in_leaf is set=11, min_child_weight=0.001 will be ignored. Current value: min_sum_hessian_in_leaf=11\n",
            "[LightGBM] [Warning] Found whitespace in feature_names, replace with underlines\n",
            "[LightGBM] [Warning] Unknown parameter: bagging_req\n",
            "[LightGBM] [Warning] Unknown parameter: baggin_fraction\n",
            "[LightGBM] [Warning] min_data_in_leaf is set=6, min_child_samples=20 will be ignored. Current value: min_data_in_leaf=6\n",
            "[LightGBM] [Warning] feature_fraction is set=0.2319, colsample_bytree=1.0 will be ignored. Current value: feature_fraction=0.2319\n",
            "[LightGBM] [Warning] min_sum_hessian_in_leaf is set=11, min_child_weight=0.001 will be ignored. Current value: min_sum_hessian_in_leaf=11\n",
            "[LightGBM] [Info] Auto-choosing row-wise multi-threading, the overhead of testing was 0.001269 seconds.\n",
            "You can set `force_row_wise=true` to remove the overhead.\n",
            "And if memory is not enough, you can set `force_col_wise=true`.\n",
            "[LightGBM] [Info] Total Bins 1484\n",
            "[LightGBM] [Info] Number of data points in the train set: 1458, number of used features: 181\n",
            "[LightGBM] [Info] Start training from score 12.024015\n",
            "[LightGBM] [Warning] Unknown parameter: bagging_req\n",
            "[LightGBM] [Warning] Unknown parameter: baggin_fraction\n",
            "[LightGBM] [Warning] min_sum_hessian_in_leaf is set=11, min_child_weight=0.001 will be ignored. Current value: min_sum_hessian_in_leaf=11\n",
            "[LightGBM] [Warning] min_data_in_leaf is set=6, min_child_samples=20 will be ignored. Current value: min_data_in_leaf=6\n",
            "[LightGBM] [Warning] feature_fraction is set=0.2319, colsample_bytree=1.0 will be ignored. Current value: feature_fraction=0.2319\n",
            "[LightGBM] [Warning] Unknown parameter: bagging_req\n",
            "[LightGBM] [Warning] Unknown parameter: baggin_fraction\n",
            "[LightGBM] [Warning] min_sum_hessian_in_leaf is set=11, min_child_weight=0.001 will be ignored. Current value: min_sum_hessian_in_leaf=11\n",
            "[LightGBM] [Warning] min_data_in_leaf is set=6, min_child_samples=20 will be ignored. Current value: min_data_in_leaf=6\n",
            "[LightGBM] [Warning] feature_fraction is set=0.2319, colsample_bytree=1.0 will be ignored. Current value: feature_fraction=0.2319\n",
            "0.07297249788916646\n"
          ]
        }
      ]
    },
    {
      "cell_type": "code",
      "source": [
        "'''RMSE on the entire Train data when averaging'''\n",
        "\n",
        "print('RMSLE score on train data:')\n",
        "print(rmsle(y_train, stacked_train_pred*0.70 + xgb_train_pred*0.15 + lgb_train_pred*0.15))"
      ],
      "metadata": {
        "colab": {
          "base_uri": "https://localhost:8080/"
        },
        "id": "CJdctUhJdvlX",
        "outputId": "09225158-23d0-4b82-e52c-69e00debccf0"
      },
      "execution_count": 65,
      "outputs": [
        {
          "output_type": "stream",
          "name": "stdout",
          "text": [
            "RMSLE score on train data:\n",
            "0.07664594175886821\n"
          ]
        }
      ]
    },
    {
      "cell_type": "markdown",
      "source": [
        "#####**Ensemble prediction**"
      ],
      "metadata": {
        "id": "yud__MzaeAy2"
      }
    },
    {
      "cell_type": "code",
      "source": [
        "ensemble = stacked_pred*0.70 + xgb_pred*0.15 + lgb_pred*0.15"
      ],
      "metadata": {
        "id": "lPGc8AXNd_70"
      },
      "execution_count": 66,
      "outputs": []
    },
    {
      "cell_type": "markdown",
      "source": [
        "#####**Submission**"
      ],
      "metadata": {
        "id": "GXMZUmTQeLAO"
      }
    },
    {
      "cell_type": "code",
      "source": [
        "sub = pd.DataFrame()\n",
        "sub['Id'] = test_ID\n",
        "sub['SalePrice'] = ensemble\n",
        "sub"
      ],
      "metadata": {
        "colab": {
          "base_uri": "https://localhost:8080/",
          "height": 423
        },
        "id": "b6MJ1vV7eKU0",
        "outputId": "546614a7-abd6-449b-d2b1-36b3f92ab5a0"
      },
      "execution_count": 67,
      "outputs": [
        {
          "output_type": "execute_result",
          "data": {
            "text/plain": [
              "        Id  SalePrice\n",
              "0     1461 120360.148\n",
              "1     1462 159274.809\n",
              "2     1463 187515.359\n",
              "3     1464 195918.110\n",
              "4     1465 190532.425\n",
              "...    ...        ...\n",
              "1454  2915  84033.813\n",
              "1455  2916  82466.992\n",
              "1456  2917 168488.612\n",
              "1457  2918 116518.210\n",
              "1458  2919 220495.741\n",
              "\n",
              "[1459 rows x 2 columns]"
            ],
            "text/html": [
              "\n",
              "  <div id=\"df-362406f0-161a-4565-a74a-2f6d6543d05e\" class=\"colab-df-container\">\n",
              "    <div>\n",
              "<style scoped>\n",
              "    .dataframe tbody tr th:only-of-type {\n",
              "        vertical-align: middle;\n",
              "    }\n",
              "\n",
              "    .dataframe tbody tr th {\n",
              "        vertical-align: top;\n",
              "    }\n",
              "\n",
              "    .dataframe thead th {\n",
              "        text-align: right;\n",
              "    }\n",
              "</style>\n",
              "<table border=\"1\" class=\"dataframe\">\n",
              "  <thead>\n",
              "    <tr style=\"text-align: right;\">\n",
              "      <th></th>\n",
              "      <th>Id</th>\n",
              "      <th>SalePrice</th>\n",
              "    </tr>\n",
              "  </thead>\n",
              "  <tbody>\n",
              "    <tr>\n",
              "      <th>0</th>\n",
              "      <td>1461</td>\n",
              "      <td>120360.148</td>\n",
              "    </tr>\n",
              "    <tr>\n",
              "      <th>1</th>\n",
              "      <td>1462</td>\n",
              "      <td>159274.809</td>\n",
              "    </tr>\n",
              "    <tr>\n",
              "      <th>2</th>\n",
              "      <td>1463</td>\n",
              "      <td>187515.359</td>\n",
              "    </tr>\n",
              "    <tr>\n",
              "      <th>3</th>\n",
              "      <td>1464</td>\n",
              "      <td>195918.110</td>\n",
              "    </tr>\n",
              "    <tr>\n",
              "      <th>4</th>\n",
              "      <td>1465</td>\n",
              "      <td>190532.425</td>\n",
              "    </tr>\n",
              "    <tr>\n",
              "      <th>...</th>\n",
              "      <td>...</td>\n",
              "      <td>...</td>\n",
              "    </tr>\n",
              "    <tr>\n",
              "      <th>1454</th>\n",
              "      <td>2915</td>\n",
              "      <td>84033.813</td>\n",
              "    </tr>\n",
              "    <tr>\n",
              "      <th>1455</th>\n",
              "      <td>2916</td>\n",
              "      <td>82466.992</td>\n",
              "    </tr>\n",
              "    <tr>\n",
              "      <th>1456</th>\n",
              "      <td>2917</td>\n",
              "      <td>168488.612</td>\n",
              "    </tr>\n",
              "    <tr>\n",
              "      <th>1457</th>\n",
              "      <td>2918</td>\n",
              "      <td>116518.210</td>\n",
              "    </tr>\n",
              "    <tr>\n",
              "      <th>1458</th>\n",
              "      <td>2919</td>\n",
              "      <td>220495.741</td>\n",
              "    </tr>\n",
              "  </tbody>\n",
              "</table>\n",
              "<p>1459 rows × 2 columns</p>\n",
              "</div>\n",
              "    <div class=\"colab-df-buttons\">\n",
              "\n",
              "  <div class=\"colab-df-container\">\n",
              "    <button class=\"colab-df-convert\" onclick=\"convertToInteractive('df-362406f0-161a-4565-a74a-2f6d6543d05e')\"\n",
              "            title=\"Convert this dataframe to an interactive table.\"\n",
              "            style=\"display:none;\">\n",
              "\n",
              "  <svg xmlns=\"http://www.w3.org/2000/svg\" height=\"24px\" viewBox=\"0 -960 960 960\">\n",
              "    <path d=\"M120-120v-720h720v720H120Zm60-500h600v-160H180v160Zm220 220h160v-160H400v160Zm0 220h160v-160H400v160ZM180-400h160v-160H180v160Zm440 0h160v-160H620v160ZM180-180h160v-160H180v160Zm440 0h160v-160H620v160Z\"/>\n",
              "  </svg>\n",
              "    </button>\n",
              "\n",
              "  <style>\n",
              "    .colab-df-container {\n",
              "      display:flex;\n",
              "      gap: 12px;\n",
              "    }\n",
              "\n",
              "    .colab-df-convert {\n",
              "      background-color: #E8F0FE;\n",
              "      border: none;\n",
              "      border-radius: 50%;\n",
              "      cursor: pointer;\n",
              "      display: none;\n",
              "      fill: #1967D2;\n",
              "      height: 32px;\n",
              "      padding: 0 0 0 0;\n",
              "      width: 32px;\n",
              "    }\n",
              "\n",
              "    .colab-df-convert:hover {\n",
              "      background-color: #E2EBFA;\n",
              "      box-shadow: 0px 1px 2px rgba(60, 64, 67, 0.3), 0px 1px 3px 1px rgba(60, 64, 67, 0.15);\n",
              "      fill: #174EA6;\n",
              "    }\n",
              "\n",
              "    .colab-df-buttons div {\n",
              "      margin-bottom: 4px;\n",
              "    }\n",
              "\n",
              "    [theme=dark] .colab-df-convert {\n",
              "      background-color: #3B4455;\n",
              "      fill: #D2E3FC;\n",
              "    }\n",
              "\n",
              "    [theme=dark] .colab-df-convert:hover {\n",
              "      background-color: #434B5C;\n",
              "      box-shadow: 0px 1px 3px 1px rgba(0, 0, 0, 0.15);\n",
              "      filter: drop-shadow(0px 1px 2px rgba(0, 0, 0, 0.3));\n",
              "      fill: #FFFFFF;\n",
              "    }\n",
              "  </style>\n",
              "\n",
              "    <script>\n",
              "      const buttonEl =\n",
              "        document.querySelector('#df-362406f0-161a-4565-a74a-2f6d6543d05e button.colab-df-convert');\n",
              "      buttonEl.style.display =\n",
              "        google.colab.kernel.accessAllowed ? 'block' : 'none';\n",
              "\n",
              "      async function convertToInteractive(key) {\n",
              "        const element = document.querySelector('#df-362406f0-161a-4565-a74a-2f6d6543d05e');\n",
              "        const dataTable =\n",
              "          await google.colab.kernel.invokeFunction('convertToInteractive',\n",
              "                                                    [key], {});\n",
              "        if (!dataTable) return;\n",
              "\n",
              "        const docLinkHtml = 'Like what you see? Visit the ' +\n",
              "          '<a target=\"_blank\" href=https://colab.research.google.com/notebooks/data_table.ipynb>data table notebook</a>'\n",
              "          + ' to learn more about interactive tables.';\n",
              "        element.innerHTML = '';\n",
              "        dataTable['output_type'] = 'display_data';\n",
              "        await google.colab.output.renderOutput(dataTable, element);\n",
              "        const docLink = document.createElement('div');\n",
              "        docLink.innerHTML = docLinkHtml;\n",
              "        element.appendChild(docLink);\n",
              "      }\n",
              "    </script>\n",
              "  </div>\n",
              "\n",
              "\n",
              "<div id=\"df-376b6043-5048-48ae-95c9-a268ae590f78\">\n",
              "  <button class=\"colab-df-quickchart\" onclick=\"quickchart('df-376b6043-5048-48ae-95c9-a268ae590f78')\"\n",
              "            title=\"Suggest charts\"\n",
              "            style=\"display:none;\">\n",
              "\n",
              "<svg xmlns=\"http://www.w3.org/2000/svg\" height=\"24px\"viewBox=\"0 0 24 24\"\n",
              "     width=\"24px\">\n",
              "    <g>\n",
              "        <path d=\"M19 3H5c-1.1 0-2 .9-2 2v14c0 1.1.9 2 2 2h14c1.1 0 2-.9 2-2V5c0-1.1-.9-2-2-2zM9 17H7v-7h2v7zm4 0h-2V7h2v10zm4 0h-2v-4h2v4z\"/>\n",
              "    </g>\n",
              "</svg>\n",
              "  </button>\n",
              "\n",
              "<style>\n",
              "  .colab-df-quickchart {\n",
              "      --bg-color: #E8F0FE;\n",
              "      --fill-color: #1967D2;\n",
              "      --hover-bg-color: #E2EBFA;\n",
              "      --hover-fill-color: #174EA6;\n",
              "      --disabled-fill-color: #AAA;\n",
              "      --disabled-bg-color: #DDD;\n",
              "  }\n",
              "\n",
              "  [theme=dark] .colab-df-quickchart {\n",
              "      --bg-color: #3B4455;\n",
              "      --fill-color: #D2E3FC;\n",
              "      --hover-bg-color: #434B5C;\n",
              "      --hover-fill-color: #FFFFFF;\n",
              "      --disabled-bg-color: #3B4455;\n",
              "      --disabled-fill-color: #666;\n",
              "  }\n",
              "\n",
              "  .colab-df-quickchart {\n",
              "    background-color: var(--bg-color);\n",
              "    border: none;\n",
              "    border-radius: 50%;\n",
              "    cursor: pointer;\n",
              "    display: none;\n",
              "    fill: var(--fill-color);\n",
              "    height: 32px;\n",
              "    padding: 0;\n",
              "    width: 32px;\n",
              "  }\n",
              "\n",
              "  .colab-df-quickchart:hover {\n",
              "    background-color: var(--hover-bg-color);\n",
              "    box-shadow: 0 1px 2px rgba(60, 64, 67, 0.3), 0 1px 3px 1px rgba(60, 64, 67, 0.15);\n",
              "    fill: var(--button-hover-fill-color);\n",
              "  }\n",
              "\n",
              "  .colab-df-quickchart-complete:disabled,\n",
              "  .colab-df-quickchart-complete:disabled:hover {\n",
              "    background-color: var(--disabled-bg-color);\n",
              "    fill: var(--disabled-fill-color);\n",
              "    box-shadow: none;\n",
              "  }\n",
              "\n",
              "  .colab-df-spinner {\n",
              "    border: 2px solid var(--fill-color);\n",
              "    border-color: transparent;\n",
              "    border-bottom-color: var(--fill-color);\n",
              "    animation:\n",
              "      spin 1s steps(1) infinite;\n",
              "  }\n",
              "\n",
              "  @keyframes spin {\n",
              "    0% {\n",
              "      border-color: transparent;\n",
              "      border-bottom-color: var(--fill-color);\n",
              "      border-left-color: var(--fill-color);\n",
              "    }\n",
              "    20% {\n",
              "      border-color: transparent;\n",
              "      border-left-color: var(--fill-color);\n",
              "      border-top-color: var(--fill-color);\n",
              "    }\n",
              "    30% {\n",
              "      border-color: transparent;\n",
              "      border-left-color: var(--fill-color);\n",
              "      border-top-color: var(--fill-color);\n",
              "      border-right-color: var(--fill-color);\n",
              "    }\n",
              "    40% {\n",
              "      border-color: transparent;\n",
              "      border-right-color: var(--fill-color);\n",
              "      border-top-color: var(--fill-color);\n",
              "    }\n",
              "    60% {\n",
              "      border-color: transparent;\n",
              "      border-right-color: var(--fill-color);\n",
              "    }\n",
              "    80% {\n",
              "      border-color: transparent;\n",
              "      border-right-color: var(--fill-color);\n",
              "      border-bottom-color: var(--fill-color);\n",
              "    }\n",
              "    90% {\n",
              "      border-color: transparent;\n",
              "      border-bottom-color: var(--fill-color);\n",
              "    }\n",
              "  }\n",
              "</style>\n",
              "\n",
              "  <script>\n",
              "    async function quickchart(key) {\n",
              "      const quickchartButtonEl =\n",
              "        document.querySelector('#' + key + ' button');\n",
              "      quickchartButtonEl.disabled = true;  // To prevent multiple clicks.\n",
              "      quickchartButtonEl.classList.add('colab-df-spinner');\n",
              "      try {\n",
              "        const charts = await google.colab.kernel.invokeFunction(\n",
              "            'suggestCharts', [key], {});\n",
              "      } catch (error) {\n",
              "        console.error('Error during call to suggestCharts:', error);\n",
              "      }\n",
              "      quickchartButtonEl.classList.remove('colab-df-spinner');\n",
              "      quickchartButtonEl.classList.add('colab-df-quickchart-complete');\n",
              "    }\n",
              "    (() => {\n",
              "      let quickchartButtonEl =\n",
              "        document.querySelector('#df-376b6043-5048-48ae-95c9-a268ae590f78 button');\n",
              "      quickchartButtonEl.style.display =\n",
              "        google.colab.kernel.accessAllowed ? 'block' : 'none';\n",
              "    })();\n",
              "  </script>\n",
              "</div>\n",
              "\n",
              "  <div id=\"id_c56f53be-0316-4f95-a27f-1d0b008be78d\">\n",
              "    <style>\n",
              "      .colab-df-generate {\n",
              "        background-color: #E8F0FE;\n",
              "        border: none;\n",
              "        border-radius: 50%;\n",
              "        cursor: pointer;\n",
              "        display: none;\n",
              "        fill: #1967D2;\n",
              "        height: 32px;\n",
              "        padding: 0 0 0 0;\n",
              "        width: 32px;\n",
              "      }\n",
              "\n",
              "      .colab-df-generate:hover {\n",
              "        background-color: #E2EBFA;\n",
              "        box-shadow: 0px 1px 2px rgba(60, 64, 67, 0.3), 0px 1px 3px 1px rgba(60, 64, 67, 0.15);\n",
              "        fill: #174EA6;\n",
              "      }\n",
              "\n",
              "      [theme=dark] .colab-df-generate {\n",
              "        background-color: #3B4455;\n",
              "        fill: #D2E3FC;\n",
              "      }\n",
              "\n",
              "      [theme=dark] .colab-df-generate:hover {\n",
              "        background-color: #434B5C;\n",
              "        box-shadow: 0px 1px 3px 1px rgba(0, 0, 0, 0.15);\n",
              "        filter: drop-shadow(0px 1px 2px rgba(0, 0, 0, 0.3));\n",
              "        fill: #FFFFFF;\n",
              "      }\n",
              "    </style>\n",
              "    <button class=\"colab-df-generate\" onclick=\"generateWithVariable('sub')\"\n",
              "            title=\"Generate code using this dataframe.\"\n",
              "            style=\"display:none;\">\n",
              "\n",
              "  <svg xmlns=\"http://www.w3.org/2000/svg\" height=\"24px\"viewBox=\"0 0 24 24\"\n",
              "       width=\"24px\">\n",
              "    <path d=\"M7,19H8.4L18.45,9,17,7.55,7,17.6ZM5,21V16.75L18.45,3.32a2,2,0,0,1,2.83,0l1.4,1.43a1.91,1.91,0,0,1,.58,1.4,1.91,1.91,0,0,1-.58,1.4L9.25,21ZM18.45,9,17,7.55Zm-12,3A5.31,5.31,0,0,0,4.9,8.1,5.31,5.31,0,0,0,1,6.5,5.31,5.31,0,0,0,4.9,4.9,5.31,5.31,0,0,0,6.5,1,5.31,5.31,0,0,0,8.1,4.9,5.31,5.31,0,0,0,12,6.5,5.46,5.46,0,0,0,6.5,12Z\"/>\n",
              "  </svg>\n",
              "    </button>\n",
              "    <script>\n",
              "      (() => {\n",
              "      const buttonEl =\n",
              "        document.querySelector('#id_c56f53be-0316-4f95-a27f-1d0b008be78d button.colab-df-generate');\n",
              "      buttonEl.style.display =\n",
              "        google.colab.kernel.accessAllowed ? 'block' : 'none';\n",
              "\n",
              "      buttonEl.onclick = () => {\n",
              "        google.colab.notebook.generateWithVariable('sub');\n",
              "      }\n",
              "      })();\n",
              "    </script>\n",
              "  </div>\n",
              "\n",
              "    </div>\n",
              "  </div>\n"
            ],
            "application/vnd.google.colaboratory.intrinsic+json": {
              "type": "dataframe",
              "variable_name": "sub",
              "summary": "{\n  \"name\": \"sub\",\n  \"rows\": 1459,\n  \"fields\": [\n    {\n      \"column\": \"Id\",\n      \"properties\": {\n        \"dtype\": \"number\",\n        \"std\": 421,\n        \"min\": 1461,\n        \"max\": 2919,\n        \"num_unique_values\": 1459,\n        \"samples\": [\n          2782,\n          2297,\n          1874\n        ],\n        \"semantic_type\": \"\",\n        \"description\": \"\"\n      }\n    },\n    {\n      \"column\": \"SalePrice\",\n      \"properties\": {\n        \"dtype\": \"number\",\n        \"std\": 77947.18856765887,\n        \"min\": 45555.11186649761,\n        \"max\": 739620.3686615478,\n        \"num_unique_values\": 1459,\n        \"samples\": [\n          95142.21085401152,\n          331005.871317937,\n          146223.76815814167\n        ],\n        \"semantic_type\": \"\",\n        \"description\": \"\"\n      }\n    }\n  ]\n}"
            }
          },
          "metadata": {},
          "execution_count": 67
        }
      ]
    },
    {
      "cell_type": "code",
      "source": [
        "#sub.to_csv('submission.csv', index=False)"
      ],
      "metadata": {
        "id": "BcIJkZgkeXsj"
      },
      "execution_count": 68,
      "outputs": []
    }
  ]
}